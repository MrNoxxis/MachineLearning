{
 "cells": [
  {
   "cell_type": "markdown",
   "metadata": {},
   "source": [
    "## 🟠**FASE IV: RF MODEL**🟠"
   ]
  },
  {
   "cell_type": "code",
   "execution_count": 1,
   "metadata": {},
   "outputs": [],
   "source": [
    "import pandas as pd\n",
    "import matplotlib.pyplot as plt\n",
    "\n",
    "from sklearn.model_selection import train_test_split\n",
    "\n",
    "import warnings #Advertencias\n",
    "warnings.filterwarnings('ignore')\n",
    "\n",
    "# Carga de parquet preprocesado\n",
    "path = 'monopoly_cleaned_parquet'\n",
    "monopoly = pd.read_parquet(path)"
   ]
  },
  {
   "cell_type": "code",
   "execution_count": 2,
   "metadata": {},
   "outputs": [
    {
     "data": {
      "text/plain": [
       "(51121, 66)"
      ]
     },
     "execution_count": 2,
     "metadata": {},
     "output_type": "execute_result"
    }
   ],
   "source": [
    "monopoly.shape"
   ]
  },
  {
   "cell_type": "code",
   "execution_count": 3,
   "metadata": {},
   "outputs": [
    {
     "data": {
      "text/html": [
       "<div>\n",
       "<style scoped>\n",
       "    .dataframe tbody tr th:only-of-type {\n",
       "        vertical-align: middle;\n",
       "    }\n",
       "\n",
       "    .dataframe tbody tr th {\n",
       "        vertical-align: top;\n",
       "    }\n",
       "\n",
       "    .dataframe thead th {\n",
       "        text-align: right;\n",
       "    }\n",
       "</style>\n",
       "<table border=\"1\" class=\"dataframe\">\n",
       "  <thead>\n",
       "    <tr style=\"text-align: right;\">\n",
       "      <th></th>\n",
       "      <th>Subsegmento</th>\n",
       "      <th>Sexo</th>\n",
       "      <th>Region</th>\n",
       "      <th>Edad</th>\n",
       "      <th>Renta</th>\n",
       "      <th>Antiguedad</th>\n",
       "      <th>Internauta</th>\n",
       "      <th>Adicional</th>\n",
       "      <th>Dualidad</th>\n",
       "      <th>Monoproducto</th>\n",
       "      <th>...</th>\n",
       "      <th>ColL2AC_avg</th>\n",
       "      <th>ColL2CC_avg</th>\n",
       "      <th>ColMx_avg</th>\n",
       "      <th>PagoNac_avg</th>\n",
       "      <th>PagoInt_avg</th>\n",
       "      <th>EeccNac_avg</th>\n",
       "      <th>EeccInt_avg</th>\n",
       "      <th>UsoL1_avg</th>\n",
       "      <th>UsoL2_avg</th>\n",
       "      <th>UsoLI_avg</th>\n",
       "    </tr>\n",
       "  </thead>\n",
       "  <tbody>\n",
       "    <tr>\n",
       "      <th>0</th>\n",
       "      <td>160.0</td>\n",
       "      <td>1.0</td>\n",
       "      <td>13.0</td>\n",
       "      <td>43.0</td>\n",
       "      <td>601932.8</td>\n",
       "      <td>130.0</td>\n",
       "      <td>1.0</td>\n",
       "      <td>1.0</td>\n",
       "      <td>0.0</td>\n",
       "      <td>0.0</td>\n",
       "      <td>...</td>\n",
       "      <td>0.0</td>\n",
       "      <td>34699.666667</td>\n",
       "      <td>0.000000</td>\n",
       "      <td>29333.333333</td>\n",
       "      <td>0.0</td>\n",
       "      <td>908079.416667</td>\n",
       "      <td>0.000000</td>\n",
       "      <td>913045.583333</td>\n",
       "      <td>53874.250000</td>\n",
       "      <td>0.000000</td>\n",
       "    </tr>\n",
       "    <tr>\n",
       "      <th>1</th>\n",
       "      <td>160.0</td>\n",
       "      <td>0.0</td>\n",
       "      <td>13.0</td>\n",
       "      <td>46.0</td>\n",
       "      <td>143640.0</td>\n",
       "      <td>69.0</td>\n",
       "      <td>1.0</td>\n",
       "      <td>0.0</td>\n",
       "      <td>0.0</td>\n",
       "      <td>0.0</td>\n",
       "      <td>...</td>\n",
       "      <td>0.0</td>\n",
       "      <td>17597.250000</td>\n",
       "      <td>45699.212500</td>\n",
       "      <td>167416.666667</td>\n",
       "      <td>0.0</td>\n",
       "      <td>460136.500000</td>\n",
       "      <td>58.904167</td>\n",
       "      <td>428734.833333</td>\n",
       "      <td>119963.916667</td>\n",
       "      <td>84.508333</td>\n",
       "    </tr>\n",
       "    <tr>\n",
       "      <th>2</th>\n",
       "      <td>170.0</td>\n",
       "      <td>0.0</td>\n",
       "      <td>13.0</td>\n",
       "      <td>45.0</td>\n",
       "      <td>929106.0</td>\n",
       "      <td>24.0</td>\n",
       "      <td>1.0</td>\n",
       "      <td>1.0</td>\n",
       "      <td>0.0</td>\n",
       "      <td>0.0</td>\n",
       "      <td>...</td>\n",
       "      <td>0.0</td>\n",
       "      <td>0.000000</td>\n",
       "      <td>0.000000</td>\n",
       "      <td>68325.750000</td>\n",
       "      <td>0.0</td>\n",
       "      <td>8510.750000</td>\n",
       "      <td>0.000000</td>\n",
       "      <td>25294.500000</td>\n",
       "      <td>0.000000</td>\n",
       "      <td>0.000000</td>\n",
       "    </tr>\n",
       "    <tr>\n",
       "      <th>3</th>\n",
       "      <td>151.0</td>\n",
       "      <td>0.0</td>\n",
       "      <td>13.0</td>\n",
       "      <td>46.0</td>\n",
       "      <td>172447.0</td>\n",
       "      <td>134.0</td>\n",
       "      <td>0.0</td>\n",
       "      <td>1.0</td>\n",
       "      <td>0.0</td>\n",
       "      <td>1.0</td>\n",
       "      <td>...</td>\n",
       "      <td>0.0</td>\n",
       "      <td>2706.500000</td>\n",
       "      <td>0.000000</td>\n",
       "      <td>57083.333333</td>\n",
       "      <td>0.0</td>\n",
       "      <td>341916.833333</td>\n",
       "      <td>0.000000</td>\n",
       "      <td>344417.500000</td>\n",
       "      <td>31825.250000</td>\n",
       "      <td>0.000000</td>\n",
       "    </tr>\n",
       "    <tr>\n",
       "      <th>4</th>\n",
       "      <td>170.0</td>\n",
       "      <td>0.0</td>\n",
       "      <td>13.0</td>\n",
       "      <td>46.0</td>\n",
       "      <td>805250.0</td>\n",
       "      <td>116.0</td>\n",
       "      <td>0.0</td>\n",
       "      <td>1.0</td>\n",
       "      <td>1.0</td>\n",
       "      <td>0.0</td>\n",
       "      <td>...</td>\n",
       "      <td>0.0</td>\n",
       "      <td>6227.666667</td>\n",
       "      <td>0.000000</td>\n",
       "      <td>291317.166667</td>\n",
       "      <td>0.0</td>\n",
       "      <td>291684.500000</td>\n",
       "      <td>0.000000</td>\n",
       "      <td>83849.250000</td>\n",
       "      <td>402597.666667</td>\n",
       "      <td>0.000000</td>\n",
       "    </tr>\n",
       "    <tr>\n",
       "      <th>5</th>\n",
       "      <td>170.0</td>\n",
       "      <td>0.0</td>\n",
       "      <td>13.0</td>\n",
       "      <td>47.0</td>\n",
       "      <td>707664.0</td>\n",
       "      <td>67.0</td>\n",
       "      <td>1.0</td>\n",
       "      <td>1.0</td>\n",
       "      <td>0.0</td>\n",
       "      <td>0.0</td>\n",
       "      <td>...</td>\n",
       "      <td>0.0</td>\n",
       "      <td>30817.583333</td>\n",
       "      <td>0.000000</td>\n",
       "      <td>67995.500000</td>\n",
       "      <td>0.0</td>\n",
       "      <td>66314.083333</td>\n",
       "      <td>0.000000</td>\n",
       "      <td>761.500000</td>\n",
       "      <td>68509.250000</td>\n",
       "      <td>0.000000</td>\n",
       "    </tr>\n",
       "    <tr>\n",
       "      <th>6</th>\n",
       "      <td>811.0</td>\n",
       "      <td>0.0</td>\n",
       "      <td>13.0</td>\n",
       "      <td>48.0</td>\n",
       "      <td>1022833.0</td>\n",
       "      <td>21.0</td>\n",
       "      <td>1.0</td>\n",
       "      <td>0.0</td>\n",
       "      <td>1.0</td>\n",
       "      <td>0.0</td>\n",
       "      <td>...</td>\n",
       "      <td>0.0</td>\n",
       "      <td>29313.500000</td>\n",
       "      <td>0.000000</td>\n",
       "      <td>229371.416667</td>\n",
       "      <td>0.0</td>\n",
       "      <td>360648.416667</td>\n",
       "      <td>0.000000</td>\n",
       "      <td>384923.583333</td>\n",
       "      <td>72453.333333</td>\n",
       "      <td>0.000000</td>\n",
       "    </tr>\n",
       "    <tr>\n",
       "      <th>7</th>\n",
       "      <td>170.0</td>\n",
       "      <td>0.0</td>\n",
       "      <td>13.0</td>\n",
       "      <td>46.0</td>\n",
       "      <td>544956.4</td>\n",
       "      <td>69.0</td>\n",
       "      <td>0.0</td>\n",
       "      <td>1.0</td>\n",
       "      <td>1.0</td>\n",
       "      <td>0.0</td>\n",
       "      <td>...</td>\n",
       "      <td>0.0</td>\n",
       "      <td>5070.750000</td>\n",
       "      <td>0.000000</td>\n",
       "      <td>21030.500000</td>\n",
       "      <td>0.0</td>\n",
       "      <td>104602.666667</td>\n",
       "      <td>0.000000</td>\n",
       "      <td>108996.833333</td>\n",
       "      <td>30391.000000</td>\n",
       "      <td>0.000000</td>\n",
       "    </tr>\n",
       "    <tr>\n",
       "      <th>8</th>\n",
       "      <td>170.0</td>\n",
       "      <td>0.0</td>\n",
       "      <td>13.0</td>\n",
       "      <td>49.0</td>\n",
       "      <td>1171066.0</td>\n",
       "      <td>33.0</td>\n",
       "      <td>0.0</td>\n",
       "      <td>0.0</td>\n",
       "      <td>0.0</td>\n",
       "      <td>0.0</td>\n",
       "      <td>...</td>\n",
       "      <td>0.0</td>\n",
       "      <td>14785.000000</td>\n",
       "      <td>5715.304167</td>\n",
       "      <td>46666.666667</td>\n",
       "      <td>0.0</td>\n",
       "      <td>479423.416667</td>\n",
       "      <td>10.843333</td>\n",
       "      <td>479423.416667</td>\n",
       "      <td>24828.666667</td>\n",
       "      <td>10.843333</td>\n",
       "    </tr>\n",
       "    <tr>\n",
       "      <th>9</th>\n",
       "      <td>170.0</td>\n",
       "      <td>1.0</td>\n",
       "      <td>13.0</td>\n",
       "      <td>44.0</td>\n",
       "      <td>964387.0</td>\n",
       "      <td>23.0</td>\n",
       "      <td>1.0</td>\n",
       "      <td>1.0</td>\n",
       "      <td>0.0</td>\n",
       "      <td>0.0</td>\n",
       "      <td>...</td>\n",
       "      <td>0.0</td>\n",
       "      <td>0.000000</td>\n",
       "      <td>0.000000</td>\n",
       "      <td>354215.083333</td>\n",
       "      <td>0.0</td>\n",
       "      <td>55744.750000</td>\n",
       "      <td>0.000000</td>\n",
       "      <td>50686.916667</td>\n",
       "      <td>16111.000000</td>\n",
       "      <td>0.000000</td>\n",
       "    </tr>\n",
       "  </tbody>\n",
       "</table>\n",
       "<p>10 rows × 66 columns</p>\n",
       "</div>"
      ],
      "text/plain": [
       "   Subsegmento  Sexo  Region  Edad      Renta  Antiguedad  Internauta  \\\n",
       "0        160.0   1.0    13.0  43.0   601932.8       130.0         1.0   \n",
       "1        160.0   0.0    13.0  46.0   143640.0        69.0         1.0   \n",
       "2        170.0   0.0    13.0  45.0   929106.0        24.0         1.0   \n",
       "3        151.0   0.0    13.0  46.0   172447.0       134.0         0.0   \n",
       "4        170.0   0.0    13.0  46.0   805250.0       116.0         0.0   \n",
       "5        170.0   0.0    13.0  47.0   707664.0        67.0         1.0   \n",
       "6        811.0   0.0    13.0  48.0  1022833.0        21.0         1.0   \n",
       "7        170.0   0.0    13.0  46.0   544956.4        69.0         0.0   \n",
       "8        170.0   0.0    13.0  49.0  1171066.0        33.0         0.0   \n",
       "9        170.0   1.0    13.0  44.0   964387.0        23.0         1.0   \n",
       "\n",
       "   Adicional  Dualidad  Monoproducto  ...  ColL2AC_avg   ColL2CC_avg  \\\n",
       "0        1.0       0.0           0.0  ...          0.0  34699.666667   \n",
       "1        0.0       0.0           0.0  ...          0.0  17597.250000   \n",
       "2        1.0       0.0           0.0  ...          0.0      0.000000   \n",
       "3        1.0       0.0           1.0  ...          0.0   2706.500000   \n",
       "4        1.0       1.0           0.0  ...          0.0   6227.666667   \n",
       "5        1.0       0.0           0.0  ...          0.0  30817.583333   \n",
       "6        0.0       1.0           0.0  ...          0.0  29313.500000   \n",
       "7        1.0       1.0           0.0  ...          0.0   5070.750000   \n",
       "8        0.0       0.0           0.0  ...          0.0  14785.000000   \n",
       "9        1.0       0.0           0.0  ...          0.0      0.000000   \n",
       "\n",
       "      ColMx_avg    PagoNac_avg  PagoInt_avg    EeccNac_avg  EeccInt_avg  \\\n",
       "0      0.000000   29333.333333          0.0  908079.416667     0.000000   \n",
       "1  45699.212500  167416.666667          0.0  460136.500000    58.904167   \n",
       "2      0.000000   68325.750000          0.0    8510.750000     0.000000   \n",
       "3      0.000000   57083.333333          0.0  341916.833333     0.000000   \n",
       "4      0.000000  291317.166667          0.0  291684.500000     0.000000   \n",
       "5      0.000000   67995.500000          0.0   66314.083333     0.000000   \n",
       "6      0.000000  229371.416667          0.0  360648.416667     0.000000   \n",
       "7      0.000000   21030.500000          0.0  104602.666667     0.000000   \n",
       "8   5715.304167   46666.666667          0.0  479423.416667    10.843333   \n",
       "9      0.000000  354215.083333          0.0   55744.750000     0.000000   \n",
       "\n",
       "       UsoL1_avg      UsoL2_avg  UsoLI_avg  \n",
       "0  913045.583333   53874.250000   0.000000  \n",
       "1  428734.833333  119963.916667  84.508333  \n",
       "2   25294.500000       0.000000   0.000000  \n",
       "3  344417.500000   31825.250000   0.000000  \n",
       "4   83849.250000  402597.666667   0.000000  \n",
       "5     761.500000   68509.250000   0.000000  \n",
       "6  384923.583333   72453.333333   0.000000  \n",
       "7  108996.833333   30391.000000   0.000000  \n",
       "8  479423.416667   24828.666667  10.843333  \n",
       "9   50686.916667   16111.000000   0.000000  \n",
       "\n",
       "[10 rows x 66 columns]"
      ]
     },
     "execution_count": 3,
     "metadata": {},
     "output_type": "execute_result"
    }
   ],
   "source": [
    "monopoly.head(10)"
   ]
  },
  {
   "cell_type": "markdown",
   "metadata": {},
   "source": [
    "#### 🎄*MODELO RANDOM FOREST*🎄"
   ]
  },
  {
   "cell_type": "markdown",
   "metadata": {},
   "source": [
    "### 🔶REG--MODELS "
   ]
  },
  {
   "cell_type": "markdown",
   "metadata": {},
   "source": [
    "#### ➡️MODEL 1 🎄-REGRESSION"
   ]
  },
  {
   "cell_type": "markdown",
   "metadata": {},
   "source": [
    "1️⃣ - `Definición de variables:`"
   ]
  },
  {
   "cell_type": "code",
   "execution_count": 4,
   "metadata": {},
   "outputs": [
    {
     "data": {
      "text/html": [
       "<div>\n",
       "<style scoped>\n",
       "    .dataframe tbody tr th:only-of-type {\n",
       "        vertical-align: middle;\n",
       "    }\n",
       "\n",
       "    .dataframe tbody tr th {\n",
       "        vertical-align: top;\n",
       "    }\n",
       "\n",
       "    .dataframe thead th {\n",
       "        text-align: right;\n",
       "    }\n",
       "</style>\n",
       "<table border=\"1\" class=\"dataframe\">\n",
       "  <thead>\n",
       "    <tr style=\"text-align: right;\">\n",
       "      <th></th>\n",
       "      <th>Subsegmento</th>\n",
       "      <th>Sexo</th>\n",
       "      <th>Region</th>\n",
       "      <th>Edad</th>\n",
       "      <th>Antiguedad</th>\n",
       "      <th>Internauta</th>\n",
       "      <th>Adicional</th>\n",
       "      <th>Dualidad</th>\n",
       "      <th>Monoproducto</th>\n",
       "      <th>Ctacte</th>\n",
       "      <th>...</th>\n",
       "      <th>ColL2AC_avg</th>\n",
       "      <th>ColL2CC_avg</th>\n",
       "      <th>ColMx_avg</th>\n",
       "      <th>PagoNac_avg</th>\n",
       "      <th>PagoInt_avg</th>\n",
       "      <th>EeccNac_avg</th>\n",
       "      <th>EeccInt_avg</th>\n",
       "      <th>UsoL1_avg</th>\n",
       "      <th>UsoL2_avg</th>\n",
       "      <th>UsoLI_avg</th>\n",
       "    </tr>\n",
       "  </thead>\n",
       "  <tbody>\n",
       "    <tr>\n",
       "      <th>0</th>\n",
       "      <td>160.0</td>\n",
       "      <td>1.0</td>\n",
       "      <td>13.0</td>\n",
       "      <td>43.0</td>\n",
       "      <td>130.0</td>\n",
       "      <td>1.0</td>\n",
       "      <td>1.0</td>\n",
       "      <td>0.0</td>\n",
       "      <td>0.0</td>\n",
       "      <td>1.0</td>\n",
       "      <td>...</td>\n",
       "      <td>0.0</td>\n",
       "      <td>34699.666667</td>\n",
       "      <td>0.0000</td>\n",
       "      <td>29333.333333</td>\n",
       "      <td>0.0</td>\n",
       "      <td>908079.416667</td>\n",
       "      <td>0.000000</td>\n",
       "      <td>913045.583333</td>\n",
       "      <td>53874.250000</td>\n",
       "      <td>0.000000</td>\n",
       "    </tr>\n",
       "    <tr>\n",
       "      <th>1</th>\n",
       "      <td>160.0</td>\n",
       "      <td>0.0</td>\n",
       "      <td>13.0</td>\n",
       "      <td>46.0</td>\n",
       "      <td>69.0</td>\n",
       "      <td>1.0</td>\n",
       "      <td>0.0</td>\n",
       "      <td>0.0</td>\n",
       "      <td>0.0</td>\n",
       "      <td>1.0</td>\n",
       "      <td>...</td>\n",
       "      <td>0.0</td>\n",
       "      <td>17597.250000</td>\n",
       "      <td>45699.2125</td>\n",
       "      <td>167416.666667</td>\n",
       "      <td>0.0</td>\n",
       "      <td>460136.500000</td>\n",
       "      <td>58.904167</td>\n",
       "      <td>428734.833333</td>\n",
       "      <td>119963.916667</td>\n",
       "      <td>84.508333</td>\n",
       "    </tr>\n",
       "    <tr>\n",
       "      <th>2</th>\n",
       "      <td>170.0</td>\n",
       "      <td>0.0</td>\n",
       "      <td>13.0</td>\n",
       "      <td>45.0</td>\n",
       "      <td>24.0</td>\n",
       "      <td>1.0</td>\n",
       "      <td>1.0</td>\n",
       "      <td>0.0</td>\n",
       "      <td>0.0</td>\n",
       "      <td>1.0</td>\n",
       "      <td>...</td>\n",
       "      <td>0.0</td>\n",
       "      <td>0.000000</td>\n",
       "      <td>0.0000</td>\n",
       "      <td>68325.750000</td>\n",
       "      <td>0.0</td>\n",
       "      <td>8510.750000</td>\n",
       "      <td>0.000000</td>\n",
       "      <td>25294.500000</td>\n",
       "      <td>0.000000</td>\n",
       "      <td>0.000000</td>\n",
       "    </tr>\n",
       "    <tr>\n",
       "      <th>3</th>\n",
       "      <td>151.0</td>\n",
       "      <td>0.0</td>\n",
       "      <td>13.0</td>\n",
       "      <td>46.0</td>\n",
       "      <td>134.0</td>\n",
       "      <td>0.0</td>\n",
       "      <td>1.0</td>\n",
       "      <td>0.0</td>\n",
       "      <td>1.0</td>\n",
       "      <td>0.0</td>\n",
       "      <td>...</td>\n",
       "      <td>0.0</td>\n",
       "      <td>2706.500000</td>\n",
       "      <td>0.0000</td>\n",
       "      <td>57083.333333</td>\n",
       "      <td>0.0</td>\n",
       "      <td>341916.833333</td>\n",
       "      <td>0.000000</td>\n",
       "      <td>344417.500000</td>\n",
       "      <td>31825.250000</td>\n",
       "      <td>0.000000</td>\n",
       "    </tr>\n",
       "    <tr>\n",
       "      <th>4</th>\n",
       "      <td>170.0</td>\n",
       "      <td>0.0</td>\n",
       "      <td>13.0</td>\n",
       "      <td>46.0</td>\n",
       "      <td>116.0</td>\n",
       "      <td>0.0</td>\n",
       "      <td>1.0</td>\n",
       "      <td>1.0</td>\n",
       "      <td>0.0</td>\n",
       "      <td>1.0</td>\n",
       "      <td>...</td>\n",
       "      <td>0.0</td>\n",
       "      <td>6227.666667</td>\n",
       "      <td>0.0000</td>\n",
       "      <td>291317.166667</td>\n",
       "      <td>0.0</td>\n",
       "      <td>291684.500000</td>\n",
       "      <td>0.000000</td>\n",
       "      <td>83849.250000</td>\n",
       "      <td>402597.666667</td>\n",
       "      <td>0.000000</td>\n",
       "    </tr>\n",
       "  </tbody>\n",
       "</table>\n",
       "<p>5 rows × 65 columns</p>\n",
       "</div>"
      ],
      "text/plain": [
       "   Subsegmento  Sexo  Region  Edad  Antiguedad  Internauta  Adicional  \\\n",
       "0        160.0   1.0    13.0  43.0       130.0         1.0        1.0   \n",
       "1        160.0   0.0    13.0  46.0        69.0         1.0        0.0   \n",
       "2        170.0   0.0    13.0  45.0        24.0         1.0        1.0   \n",
       "3        151.0   0.0    13.0  46.0       134.0         0.0        1.0   \n",
       "4        170.0   0.0    13.0  46.0       116.0         0.0        1.0   \n",
       "\n",
       "   Dualidad  Monoproducto  Ctacte  ...  ColL2AC_avg   ColL2CC_avg   ColMx_avg  \\\n",
       "0       0.0           0.0     1.0  ...          0.0  34699.666667      0.0000   \n",
       "1       0.0           0.0     1.0  ...          0.0  17597.250000  45699.2125   \n",
       "2       0.0           0.0     1.0  ...          0.0      0.000000      0.0000   \n",
       "3       0.0           1.0     0.0  ...          0.0   2706.500000      0.0000   \n",
       "4       1.0           0.0     1.0  ...          0.0   6227.666667      0.0000   \n",
       "\n",
       "     PagoNac_avg  PagoInt_avg    EeccNac_avg  EeccInt_avg      UsoL1_avg  \\\n",
       "0   29333.333333          0.0  908079.416667     0.000000  913045.583333   \n",
       "1  167416.666667          0.0  460136.500000    58.904167  428734.833333   \n",
       "2   68325.750000          0.0    8510.750000     0.000000   25294.500000   \n",
       "3   57083.333333          0.0  341916.833333     0.000000  344417.500000   \n",
       "4  291317.166667          0.0  291684.500000     0.000000   83849.250000   \n",
       "\n",
       "       UsoL2_avg  UsoLI_avg  \n",
       "0   53874.250000   0.000000  \n",
       "1  119963.916667  84.508333  \n",
       "2       0.000000   0.000000  \n",
       "3   31825.250000   0.000000  \n",
       "4  402597.666667   0.000000  \n",
       "\n",
       "[5 rows x 65 columns]"
      ]
     },
     "execution_count": 4,
     "metadata": {},
     "output_type": "execute_result"
    }
   ],
   "source": [
    "X = pd.DataFrame(monopoly.drop(columns=['Renta']))\n",
    "X.head()"
   ]
  },
  {
   "cell_type": "code",
   "execution_count": 5,
   "metadata": {},
   "outputs": [
    {
     "data": {
      "text/html": [
       "<div>\n",
       "<style scoped>\n",
       "    .dataframe tbody tr th:only-of-type {\n",
       "        vertical-align: middle;\n",
       "    }\n",
       "\n",
       "    .dataframe tbody tr th {\n",
       "        vertical-align: top;\n",
       "    }\n",
       "\n",
       "    .dataframe thead th {\n",
       "        text-align: right;\n",
       "    }\n",
       "</style>\n",
       "<table border=\"1\" class=\"dataframe\">\n",
       "  <thead>\n",
       "    <tr style=\"text-align: right;\">\n",
       "      <th></th>\n",
       "      <th>Renta</th>\n",
       "    </tr>\n",
       "  </thead>\n",
       "  <tbody>\n",
       "    <tr>\n",
       "      <th>0</th>\n",
       "      <td>601932.8</td>\n",
       "    </tr>\n",
       "    <tr>\n",
       "      <th>1</th>\n",
       "      <td>143640.0</td>\n",
       "    </tr>\n",
       "    <tr>\n",
       "      <th>2</th>\n",
       "      <td>929106.0</td>\n",
       "    </tr>\n",
       "    <tr>\n",
       "      <th>3</th>\n",
       "      <td>172447.0</td>\n",
       "    </tr>\n",
       "    <tr>\n",
       "      <th>4</th>\n",
       "      <td>805250.0</td>\n",
       "    </tr>\n",
       "  </tbody>\n",
       "</table>\n",
       "</div>"
      ],
      "text/plain": [
       "      Renta\n",
       "0  601932.8\n",
       "1  143640.0\n",
       "2  929106.0\n",
       "3  172447.0\n",
       "4  805250.0"
      ]
     },
     "execution_count": 5,
     "metadata": {},
     "output_type": "execute_result"
    }
   ],
   "source": [
    "Y = pd.DataFrame(monopoly['Renta'])\n",
    "Y.head()"
   ]
  },
  {
   "cell_type": "code",
   "execution_count": 6,
   "metadata": {},
   "outputs": [],
   "source": [
    "X_train, X_test, Y_train, Y_test = train_test_split(X, Y, train_size= 0.8, random_state=52)"
   ]
  },
  {
   "cell_type": "code",
   "execution_count": 7,
   "metadata": {},
   "outputs": [],
   "source": [
    "from sklearn.metrics import mean_squared_error, mean_absolute_error, r2_score\n",
    "from statsmodels.tools.eval_measures import rmse"
   ]
  },
  {
   "cell_type": "markdown",
   "metadata": {},
   "source": [
    "2️⃣ - `Modelo:`"
   ]
  },
  {
   "cell_type": "code",
   "execution_count": 8,
   "metadata": {},
   "outputs": [],
   "source": [
    "from sklearn.ensemble import RandomForestRegressor"
   ]
  },
  {
   "cell_type": "code",
   "execution_count": 9,
   "metadata": {},
   "outputs": [],
   "source": [
    "modelo_rf = RandomForestRegressor(n_estimators=100, max_depth=10)"
   ]
  },
  {
   "cell_type": "markdown",
   "metadata": {},
   "source": [
    "3️⃣ - `Entrenamiento:`"
   ]
  },
  {
   "cell_type": "code",
   "execution_count": 10,
   "metadata": {},
   "outputs": [
    {
     "data": {
      "text/html": [
       "<style>#sk-container-id-1 {color: black;}#sk-container-id-1 pre{padding: 0;}#sk-container-id-1 div.sk-toggleable {background-color: white;}#sk-container-id-1 label.sk-toggleable__label {cursor: pointer;display: block;width: 100%;margin-bottom: 0;padding: 0.3em;box-sizing: border-box;text-align: center;}#sk-container-id-1 label.sk-toggleable__label-arrow:before {content: \"▸\";float: left;margin-right: 0.25em;color: #696969;}#sk-container-id-1 label.sk-toggleable__label-arrow:hover:before {color: black;}#sk-container-id-1 div.sk-estimator:hover label.sk-toggleable__label-arrow:before {color: black;}#sk-container-id-1 div.sk-toggleable__content {max-height: 0;max-width: 0;overflow: hidden;text-align: left;background-color: #f0f8ff;}#sk-container-id-1 div.sk-toggleable__content pre {margin: 0.2em;color: black;border-radius: 0.25em;background-color: #f0f8ff;}#sk-container-id-1 input.sk-toggleable__control:checked~div.sk-toggleable__content {max-height: 200px;max-width: 100%;overflow: auto;}#sk-container-id-1 input.sk-toggleable__control:checked~label.sk-toggleable__label-arrow:before {content: \"▾\";}#sk-container-id-1 div.sk-estimator input.sk-toggleable__control:checked~label.sk-toggleable__label {background-color: #d4ebff;}#sk-container-id-1 div.sk-label input.sk-toggleable__control:checked~label.sk-toggleable__label {background-color: #d4ebff;}#sk-container-id-1 input.sk-hidden--visually {border: 0;clip: rect(1px 1px 1px 1px);clip: rect(1px, 1px, 1px, 1px);height: 1px;margin: -1px;overflow: hidden;padding: 0;position: absolute;width: 1px;}#sk-container-id-1 div.sk-estimator {font-family: monospace;background-color: #f0f8ff;border: 1px dotted black;border-radius: 0.25em;box-sizing: border-box;margin-bottom: 0.5em;}#sk-container-id-1 div.sk-estimator:hover {background-color: #d4ebff;}#sk-container-id-1 div.sk-parallel-item::after {content: \"\";width: 100%;border-bottom: 1px solid gray;flex-grow: 1;}#sk-container-id-1 div.sk-label:hover label.sk-toggleable__label {background-color: #d4ebff;}#sk-container-id-1 div.sk-serial::before {content: \"\";position: absolute;border-left: 1px solid gray;box-sizing: border-box;top: 0;bottom: 0;left: 50%;z-index: 0;}#sk-container-id-1 div.sk-serial {display: flex;flex-direction: column;align-items: center;background-color: white;padding-right: 0.2em;padding-left: 0.2em;position: relative;}#sk-container-id-1 div.sk-item {position: relative;z-index: 1;}#sk-container-id-1 div.sk-parallel {display: flex;align-items: stretch;justify-content: center;background-color: white;position: relative;}#sk-container-id-1 div.sk-item::before, #sk-container-id-1 div.sk-parallel-item::before {content: \"\";position: absolute;border-left: 1px solid gray;box-sizing: border-box;top: 0;bottom: 0;left: 50%;z-index: -1;}#sk-container-id-1 div.sk-parallel-item {display: flex;flex-direction: column;z-index: 1;position: relative;background-color: white;}#sk-container-id-1 div.sk-parallel-item:first-child::after {align-self: flex-end;width: 50%;}#sk-container-id-1 div.sk-parallel-item:last-child::after {align-self: flex-start;width: 50%;}#sk-container-id-1 div.sk-parallel-item:only-child::after {width: 0;}#sk-container-id-1 div.sk-dashed-wrapped {border: 1px dashed gray;margin: 0 0.4em 0.5em 0.4em;box-sizing: border-box;padding-bottom: 0.4em;background-color: white;}#sk-container-id-1 div.sk-label label {font-family: monospace;font-weight: bold;display: inline-block;line-height: 1.2em;}#sk-container-id-1 div.sk-label-container {text-align: center;}#sk-container-id-1 div.sk-container {/* jupyter's `normalize.less` sets `[hidden] { display: none; }` but bootstrap.min.css set `[hidden] { display: none !important; }` so we also need the `!important` here to be able to override the default hidden behavior on the sphinx rendered scikit-learn.org. See: https://github.com/scikit-learn/scikit-learn/issues/21755 */display: inline-block !important;position: relative;}#sk-container-id-1 div.sk-text-repr-fallback {display: none;}</style><div id=\"sk-container-id-1\" class=\"sk-top-container\"><div class=\"sk-text-repr-fallback\"><pre>RandomForestRegressor(max_depth=10)</pre><b>In a Jupyter environment, please rerun this cell to show the HTML representation or trust the notebook. <br />On GitHub, the HTML representation is unable to render, please try loading this page with nbviewer.org.</b></div><div class=\"sk-container\" hidden><div class=\"sk-item\"><div class=\"sk-estimator sk-toggleable\"><input class=\"sk-toggleable__control sk-hidden--visually\" id=\"sk-estimator-id-1\" type=\"checkbox\" checked><label for=\"sk-estimator-id-1\" class=\"sk-toggleable__label sk-toggleable__label-arrow\">RandomForestRegressor</label><div class=\"sk-toggleable__content\"><pre>RandomForestRegressor(max_depth=10)</pre></div></div></div></div></div>"
      ],
      "text/plain": [
       "RandomForestRegressor(max_depth=10)"
      ]
     },
     "execution_count": 10,
     "metadata": {},
     "output_type": "execute_result"
    }
   ],
   "source": [
    "modelo_rf.fit(X_train, Y_train)"
   ]
  },
  {
   "cell_type": "markdown",
   "metadata": {},
   "source": [
    "4️⃣ - `Predicción:`"
   ]
  },
  {
   "cell_type": "code",
   "execution_count": 11,
   "metadata": {},
   "outputs": [],
   "source": [
    "#Estimacion de Y (Y \"gorro\")\n",
    "Y_hat = modelo_rf.predict(X_test)"
   ]
  },
  {
   "cell_type": "markdown",
   "metadata": {},
   "source": [
    "5️⃣ - `Métricas:` Evaluamos el desempeño del modelo a través del cálculo de métricas."
   ]
  },
  {
   "cell_type": "code",
   "execution_count": 12,
   "metadata": {},
   "outputs": [],
   "source": [
    "import math"
   ]
  },
  {
   "cell_type": "code",
   "execution_count": 13,
   "metadata": {},
   "outputs": [
    {
     "name": "stdout",
     "output_type": "stream",
     "text": [
      "MAE: 168825.84\n",
      "MSE: 77569410783.52\n",
      "RMSE: 278512.86\n",
      "r2: 0.41\n"
     ]
    }
   ],
   "source": [
    "MAE_RF1 = mean_absolute_error(Y_test, Y_hat)\n",
    "MSE_RF1 =  mean_squared_error(Y_test, Y_hat)\n",
    "RMSE_RF1 = math.sqrt(mean_squared_error(Y_test, Y_hat))\n",
    "r2_RF1 = r2_score(Y_test, Y_hat)\n",
    "\n",
    "print(\"MAE: %.2f\" % MAE_RF1)\n",
    "print(\"MSE: %.2f\" % MSE_RF1)\n",
    "print(\"RMSE: %.2f\" % RMSE_RF1)\n",
    "print('r2: %.2f' % r2_RF1)"
   ]
  },
  {
   "cell_type": "markdown",
   "metadata": {},
   "source": [
    "⛔- `Resultado:`\n",
    "El Modelo 1 muestra un rendimiento razonable en la predicción de la variable \"Renta\". Tiene un valor de R2 de 0.41, lo que indica que el modelo explica el 41% de la variabilidad en la variable de respuesta. El RMSE es moderadamente alto, lo que sugiere cierto grado de error en las predicciones."
   ]
  },
  {
   "cell_type": "markdown",
   "metadata": {},
   "source": [
    "#### ➡️MODEL 2 🎄-REGRESSION"
   ]
  },
  {
   "cell_type": "markdown",
   "metadata": {},
   "source": [
    "2️⃣ - `Modelo:`"
   ]
  },
  {
   "cell_type": "code",
   "execution_count": 14,
   "metadata": {},
   "outputs": [],
   "source": [
    "modelo_rf2 = RandomForestRegressor(n_estimators=100, max_depth=10, min_samples_split=2,min_samples_leaf=2, max_features='sqrt')"
   ]
  },
  {
   "cell_type": "markdown",
   "metadata": {},
   "source": [
    "3️⃣ - `Entrenamiento:`"
   ]
  },
  {
   "cell_type": "code",
   "execution_count": 15,
   "metadata": {},
   "outputs": [
    {
     "data": {
      "text/html": [
       "<style>#sk-container-id-2 {color: black;}#sk-container-id-2 pre{padding: 0;}#sk-container-id-2 div.sk-toggleable {background-color: white;}#sk-container-id-2 label.sk-toggleable__label {cursor: pointer;display: block;width: 100%;margin-bottom: 0;padding: 0.3em;box-sizing: border-box;text-align: center;}#sk-container-id-2 label.sk-toggleable__label-arrow:before {content: \"▸\";float: left;margin-right: 0.25em;color: #696969;}#sk-container-id-2 label.sk-toggleable__label-arrow:hover:before {color: black;}#sk-container-id-2 div.sk-estimator:hover label.sk-toggleable__label-arrow:before {color: black;}#sk-container-id-2 div.sk-toggleable__content {max-height: 0;max-width: 0;overflow: hidden;text-align: left;background-color: #f0f8ff;}#sk-container-id-2 div.sk-toggleable__content pre {margin: 0.2em;color: black;border-radius: 0.25em;background-color: #f0f8ff;}#sk-container-id-2 input.sk-toggleable__control:checked~div.sk-toggleable__content {max-height: 200px;max-width: 100%;overflow: auto;}#sk-container-id-2 input.sk-toggleable__control:checked~label.sk-toggleable__label-arrow:before {content: \"▾\";}#sk-container-id-2 div.sk-estimator input.sk-toggleable__control:checked~label.sk-toggleable__label {background-color: #d4ebff;}#sk-container-id-2 div.sk-label input.sk-toggleable__control:checked~label.sk-toggleable__label {background-color: #d4ebff;}#sk-container-id-2 input.sk-hidden--visually {border: 0;clip: rect(1px 1px 1px 1px);clip: rect(1px, 1px, 1px, 1px);height: 1px;margin: -1px;overflow: hidden;padding: 0;position: absolute;width: 1px;}#sk-container-id-2 div.sk-estimator {font-family: monospace;background-color: #f0f8ff;border: 1px dotted black;border-radius: 0.25em;box-sizing: border-box;margin-bottom: 0.5em;}#sk-container-id-2 div.sk-estimator:hover {background-color: #d4ebff;}#sk-container-id-2 div.sk-parallel-item::after {content: \"\";width: 100%;border-bottom: 1px solid gray;flex-grow: 1;}#sk-container-id-2 div.sk-label:hover label.sk-toggleable__label {background-color: #d4ebff;}#sk-container-id-2 div.sk-serial::before {content: \"\";position: absolute;border-left: 1px solid gray;box-sizing: border-box;top: 0;bottom: 0;left: 50%;z-index: 0;}#sk-container-id-2 div.sk-serial {display: flex;flex-direction: column;align-items: center;background-color: white;padding-right: 0.2em;padding-left: 0.2em;position: relative;}#sk-container-id-2 div.sk-item {position: relative;z-index: 1;}#sk-container-id-2 div.sk-parallel {display: flex;align-items: stretch;justify-content: center;background-color: white;position: relative;}#sk-container-id-2 div.sk-item::before, #sk-container-id-2 div.sk-parallel-item::before {content: \"\";position: absolute;border-left: 1px solid gray;box-sizing: border-box;top: 0;bottom: 0;left: 50%;z-index: -1;}#sk-container-id-2 div.sk-parallel-item {display: flex;flex-direction: column;z-index: 1;position: relative;background-color: white;}#sk-container-id-2 div.sk-parallel-item:first-child::after {align-self: flex-end;width: 50%;}#sk-container-id-2 div.sk-parallel-item:last-child::after {align-self: flex-start;width: 50%;}#sk-container-id-2 div.sk-parallel-item:only-child::after {width: 0;}#sk-container-id-2 div.sk-dashed-wrapped {border: 1px dashed gray;margin: 0 0.4em 0.5em 0.4em;box-sizing: border-box;padding-bottom: 0.4em;background-color: white;}#sk-container-id-2 div.sk-label label {font-family: monospace;font-weight: bold;display: inline-block;line-height: 1.2em;}#sk-container-id-2 div.sk-label-container {text-align: center;}#sk-container-id-2 div.sk-container {/* jupyter's `normalize.less` sets `[hidden] { display: none; }` but bootstrap.min.css set `[hidden] { display: none !important; }` so we also need the `!important` here to be able to override the default hidden behavior on the sphinx rendered scikit-learn.org. See: https://github.com/scikit-learn/scikit-learn/issues/21755 */display: inline-block !important;position: relative;}#sk-container-id-2 div.sk-text-repr-fallback {display: none;}</style><div id=\"sk-container-id-2\" class=\"sk-top-container\"><div class=\"sk-text-repr-fallback\"><pre>RandomForestRegressor(max_depth=10, max_features=&#x27;sqrt&#x27;, min_samples_leaf=2)</pre><b>In a Jupyter environment, please rerun this cell to show the HTML representation or trust the notebook. <br />On GitHub, the HTML representation is unable to render, please try loading this page with nbviewer.org.</b></div><div class=\"sk-container\" hidden><div class=\"sk-item\"><div class=\"sk-estimator sk-toggleable\"><input class=\"sk-toggleable__control sk-hidden--visually\" id=\"sk-estimator-id-2\" type=\"checkbox\" checked><label for=\"sk-estimator-id-2\" class=\"sk-toggleable__label sk-toggleable__label-arrow\">RandomForestRegressor</label><div class=\"sk-toggleable__content\"><pre>RandomForestRegressor(max_depth=10, max_features=&#x27;sqrt&#x27;, min_samples_leaf=2)</pre></div></div></div></div></div>"
      ],
      "text/plain": [
       "RandomForestRegressor(max_depth=10, max_features='sqrt', min_samples_leaf=2)"
      ]
     },
     "execution_count": 15,
     "metadata": {},
     "output_type": "execute_result"
    }
   ],
   "source": [
    "modelo_rf2.fit(X_train, Y_train)"
   ]
  },
  {
   "cell_type": "markdown",
   "metadata": {},
   "source": [
    "4️⃣ - `Predicción:`"
   ]
  },
  {
   "cell_type": "code",
   "execution_count": 16,
   "metadata": {},
   "outputs": [],
   "source": [
    "#Estimacion de Y (Y \"gorro\")\n",
    "Y_hat = modelo_rf2.predict(X_test)"
   ]
  },
  {
   "cell_type": "markdown",
   "metadata": {},
   "source": [
    "5️⃣ - `Métricas:`"
   ]
  },
  {
   "cell_type": "code",
   "execution_count": 17,
   "metadata": {},
   "outputs": [
    {
     "name": "stdout",
     "output_type": "stream",
     "text": [
      "MAE2_M2: 171583.13\n",
      "MSE2_M2: 79851672703.31\n",
      "RMSE_M2: 282580.38\n",
      "r2_M2: 0.40\n"
     ]
    }
   ],
   "source": [
    "MAE_RF2 = mean_absolute_error(Y_test, Y_hat)\n",
    "MSE_RF2 =  mean_squared_error(Y_test, Y_hat)\n",
    "RMSE_RF2 = math.sqrt(mean_squared_error(Y_test, Y_hat))\n",
    "r2_RF2 = r2_score(Y_test, Y_hat)\n",
    "\n",
    "print(\"MAE2_M2: %.2f\" % MAE_RF2)\n",
    "print(\"MSE2_M2: %.2f\" % MSE_RF2)\n",
    "print(\"RMSE_M2: %.2f\" % RMSE_RF2)\n",
    "print('r2_M2: %.2f' % r2_RF2)"
   ]
  },
  {
   "cell_type": "markdown",
   "metadata": {},
   "source": [
    "⛔- `Resultado:`\n",
    "El Modelo 2 tiene resultados similares a los del Modelo 1 en términos de MAE, MSE y RMSE, aunque con un valor ligeramente más bajo de R2 (0.40). Esto indica que el modelo explica el 40% de la variabilidad en la variable de respuesta."
   ]
  },
  {
   "cell_type": "markdown",
   "metadata": {},
   "source": [
    "#### ➡️MODEL 3 🎄-REGRESSION"
   ]
  },
  {
   "cell_type": "markdown",
   "metadata": {},
   "source": [
    "2️⃣ - `Modelo:`"
   ]
  },
  {
   "cell_type": "code",
   "execution_count": 18,
   "metadata": {},
   "outputs": [
    {
     "data": {
      "text/plain": [
       "{'max_depth': 20,\n",
       " 'max_features': 'sqrt',\n",
       " 'min_samples_leaf': 4,\n",
       " 'min_samples_split': 2,\n",
       " 'n_estimators': 100}"
      ]
     },
     "execution_count": 18,
     "metadata": {},
     "output_type": "execute_result"
    }
   ],
   "source": [
    "# HIPERPARAMETROS -- GridSearchCV\n",
    "from sklearn.model_selection import GridSearchCV\n",
    "\n",
    "param_grid = {\n",
    "    'n_estimators': [50, 100],\n",
    "    'max_depth': [None, 10, 20],\n",
    "    'min_samples_split': [2],\n",
    "    'min_samples_leaf': [1, 2, 4],\n",
    "    'max_features': ['auto', 'sqrt']\n",
    "}\n",
    "\n",
    "# Crear una instancia del modelo Random Forest\n",
    "modelo = RandomForestRegressor(random_state=123)\n",
    "\n",
    "# GridSearchCV -- mejor combinación de hiperparámetros\n",
    "grid_search = GridSearchCV(estimator=modelo, param_grid=param_grid, cv=3, scoring='neg_mean_squared_error', n_jobs=-1)\n",
    "grid_search.fit(X_train, Y_train)\n",
    "\n",
    "# Obtener la mejor combinación de hiperparámetros\n",
    "better_params = grid_search.best_params_\n",
    "better_params"
   ]
  },
  {
   "cell_type": "code",
   "execution_count": 19,
   "metadata": {},
   "outputs": [],
   "source": [
    "# Crear un modelo Random Forest con los mejores parámetros\n",
    "modelo_rf3 = RandomForestRegressor(**better_params, random_state=123)"
   ]
  },
  {
   "cell_type": "markdown",
   "metadata": {},
   "source": [
    "3️⃣ - `Entrenamiento:`"
   ]
  },
  {
   "cell_type": "code",
   "execution_count": 20,
   "metadata": {},
   "outputs": [
    {
     "data": {
      "text/html": [
       "<style>#sk-container-id-3 {color: black;}#sk-container-id-3 pre{padding: 0;}#sk-container-id-3 div.sk-toggleable {background-color: white;}#sk-container-id-3 label.sk-toggleable__label {cursor: pointer;display: block;width: 100%;margin-bottom: 0;padding: 0.3em;box-sizing: border-box;text-align: center;}#sk-container-id-3 label.sk-toggleable__label-arrow:before {content: \"▸\";float: left;margin-right: 0.25em;color: #696969;}#sk-container-id-3 label.sk-toggleable__label-arrow:hover:before {color: black;}#sk-container-id-3 div.sk-estimator:hover label.sk-toggleable__label-arrow:before {color: black;}#sk-container-id-3 div.sk-toggleable__content {max-height: 0;max-width: 0;overflow: hidden;text-align: left;background-color: #f0f8ff;}#sk-container-id-3 div.sk-toggleable__content pre {margin: 0.2em;color: black;border-radius: 0.25em;background-color: #f0f8ff;}#sk-container-id-3 input.sk-toggleable__control:checked~div.sk-toggleable__content {max-height: 200px;max-width: 100%;overflow: auto;}#sk-container-id-3 input.sk-toggleable__control:checked~label.sk-toggleable__label-arrow:before {content: \"▾\";}#sk-container-id-3 div.sk-estimator input.sk-toggleable__control:checked~label.sk-toggleable__label {background-color: #d4ebff;}#sk-container-id-3 div.sk-label input.sk-toggleable__control:checked~label.sk-toggleable__label {background-color: #d4ebff;}#sk-container-id-3 input.sk-hidden--visually {border: 0;clip: rect(1px 1px 1px 1px);clip: rect(1px, 1px, 1px, 1px);height: 1px;margin: -1px;overflow: hidden;padding: 0;position: absolute;width: 1px;}#sk-container-id-3 div.sk-estimator {font-family: monospace;background-color: #f0f8ff;border: 1px dotted black;border-radius: 0.25em;box-sizing: border-box;margin-bottom: 0.5em;}#sk-container-id-3 div.sk-estimator:hover {background-color: #d4ebff;}#sk-container-id-3 div.sk-parallel-item::after {content: \"\";width: 100%;border-bottom: 1px solid gray;flex-grow: 1;}#sk-container-id-3 div.sk-label:hover label.sk-toggleable__label {background-color: #d4ebff;}#sk-container-id-3 div.sk-serial::before {content: \"\";position: absolute;border-left: 1px solid gray;box-sizing: border-box;top: 0;bottom: 0;left: 50%;z-index: 0;}#sk-container-id-3 div.sk-serial {display: flex;flex-direction: column;align-items: center;background-color: white;padding-right: 0.2em;padding-left: 0.2em;position: relative;}#sk-container-id-3 div.sk-item {position: relative;z-index: 1;}#sk-container-id-3 div.sk-parallel {display: flex;align-items: stretch;justify-content: center;background-color: white;position: relative;}#sk-container-id-3 div.sk-item::before, #sk-container-id-3 div.sk-parallel-item::before {content: \"\";position: absolute;border-left: 1px solid gray;box-sizing: border-box;top: 0;bottom: 0;left: 50%;z-index: -1;}#sk-container-id-3 div.sk-parallel-item {display: flex;flex-direction: column;z-index: 1;position: relative;background-color: white;}#sk-container-id-3 div.sk-parallel-item:first-child::after {align-self: flex-end;width: 50%;}#sk-container-id-3 div.sk-parallel-item:last-child::after {align-self: flex-start;width: 50%;}#sk-container-id-3 div.sk-parallel-item:only-child::after {width: 0;}#sk-container-id-3 div.sk-dashed-wrapped {border: 1px dashed gray;margin: 0 0.4em 0.5em 0.4em;box-sizing: border-box;padding-bottom: 0.4em;background-color: white;}#sk-container-id-3 div.sk-label label {font-family: monospace;font-weight: bold;display: inline-block;line-height: 1.2em;}#sk-container-id-3 div.sk-label-container {text-align: center;}#sk-container-id-3 div.sk-container {/* jupyter's `normalize.less` sets `[hidden] { display: none; }` but bootstrap.min.css set `[hidden] { display: none !important; }` so we also need the `!important` here to be able to override the default hidden behavior on the sphinx rendered scikit-learn.org. See: https://github.com/scikit-learn/scikit-learn/issues/21755 */display: inline-block !important;position: relative;}#sk-container-id-3 div.sk-text-repr-fallback {display: none;}</style><div id=\"sk-container-id-3\" class=\"sk-top-container\"><div class=\"sk-text-repr-fallback\"><pre>RandomForestRegressor(max_depth=20, max_features=&#x27;sqrt&#x27;, min_samples_leaf=4,\n",
       "                      random_state=123)</pre><b>In a Jupyter environment, please rerun this cell to show the HTML representation or trust the notebook. <br />On GitHub, the HTML representation is unable to render, please try loading this page with nbviewer.org.</b></div><div class=\"sk-container\" hidden><div class=\"sk-item\"><div class=\"sk-estimator sk-toggleable\"><input class=\"sk-toggleable__control sk-hidden--visually\" id=\"sk-estimator-id-3\" type=\"checkbox\" checked><label for=\"sk-estimator-id-3\" class=\"sk-toggleable__label sk-toggleable__label-arrow\">RandomForestRegressor</label><div class=\"sk-toggleable__content\"><pre>RandomForestRegressor(max_depth=20, max_features=&#x27;sqrt&#x27;, min_samples_leaf=4,\n",
       "                      random_state=123)</pre></div></div></div></div></div>"
      ],
      "text/plain": [
       "RandomForestRegressor(max_depth=20, max_features='sqrt', min_samples_leaf=4,\n",
       "                      random_state=123)"
      ]
     },
     "execution_count": 20,
     "metadata": {},
     "output_type": "execute_result"
    }
   ],
   "source": [
    "modelo_rf3.fit(X_train, Y_train)"
   ]
  },
  {
   "cell_type": "markdown",
   "metadata": {},
   "source": [
    "4️⃣ - `Predicción:` "
   ]
  },
  {
   "cell_type": "code",
   "execution_count": 21,
   "metadata": {},
   "outputs": [],
   "source": [
    "#Estimacion de Y (Y \"gorro\")\n",
    "Y_hat = modelo_rf3.predict(X_test)"
   ]
  },
  {
   "cell_type": "markdown",
   "metadata": {},
   "source": [
    "5️⃣ - `Métricas:`"
   ]
  },
  {
   "cell_type": "code",
   "execution_count": 22,
   "metadata": {},
   "outputs": [
    {
     "name": "stdout",
     "output_type": "stream",
     "text": [
      "MAE2_M3: 167522.50\n",
      "MSE2_M3: 76222349132.35\n",
      "RMSE_M3: 276083.95\n",
      "r2_M3: 0.42\n"
     ]
    }
   ],
   "source": [
    "MAE_RF3 = mean_absolute_error(Y_test, Y_hat)\n",
    "MSE_RF3 =  mean_squared_error(Y_test, Y_hat)\n",
    "RMSE_RF3 = math.sqrt(mean_squared_error(Y_test, Y_hat))\n",
    "r2_RF3 = r2_score(Y_test, Y_hat)\n",
    "\n",
    "print(\"MAE2_M3: %.2f\" % MAE_RF3)\n",
    "print(\"MSE2_M3: %.2f\" % MSE_RF3)\n",
    "print(\"RMSE_M3: %.2f\" % RMSE_RF3)\n",
    "print('r2_M3: %.2f' % r2_RF3)"
   ]
  },
  {
   "cell_type": "markdown",
   "metadata": {},
   "source": [
    "✅- `Resultado:`\n",
    "El Modelo 3 se destaca como el mejor entre los modelos anteriores. Tiene el valor más bajo de MAE, MSE y RMSE, indicando una capacidad superior para predecir la variable \"Renta\". Además, posee el valor más alto de R2 (0.42), lo que dice que el modelo toma un 42% de la variabilidad en prediccion de la variable."
   ]
  },
  {
   "cell_type": "markdown",
   "metadata": {},
   "source": [
    "#### ➡️MODEL 4 🎄-REGRESSION"
   ]
  },
  {
   "cell_type": "markdown",
   "metadata": {},
   "source": [
    "2️⃣ - `Modelo:`"
   ]
  },
  {
   "cell_type": "code",
   "execution_count": 23,
   "metadata": {},
   "outputs": [
    {
     "data": {
      "text/plain": [
       "{'n_estimators': 100,\n",
       " 'min_samples_split': 10,\n",
       " 'min_samples_leaf': 4,\n",
       " 'max_features': 'sqrt',\n",
       " 'max_depth': 20}"
      ]
     },
     "execution_count": 23,
     "metadata": {},
     "output_type": "execute_result"
    }
   ],
   "source": [
    "from sklearn.model_selection import RandomizedSearchCV\n",
    "\n",
    "param_dist = {\n",
    "    'n_estimators':(50, 100),  \n",
    "    'max_depth': [None, 10, 20],  \n",
    "    'min_samples_split':(2, 10),  \n",
    "    'min_samples_leaf':(1, 4),  \n",
    "    'max_features': ['auto', 'sqrt']  \n",
    "}\n",
    "\n",
    "# Crear una instancia del modelo Random Forest\n",
    "modelo = RandomForestRegressor(random_state=123)\n",
    "\n",
    "# RandomizedSearchCV -- búsqueda aleatoria de hiperparámetros\n",
    "random_search = RandomizedSearchCV(estimator=modelo, param_distributions=param_dist, n_iter=100, cv=3, scoring='neg_mean_squared_error', n_jobs=-1)\n",
    "random_search.fit(X_train, Y_train)\n",
    "\n",
    "# Obtener la mejor combinación de hiperparámetros\n",
    "better_params = random_search.best_params_\n",
    "better_params"
   ]
  },
  {
   "cell_type": "code",
   "execution_count": 24,
   "metadata": {},
   "outputs": [],
   "source": [
    "# Crear un modelo Random Forest con los mejores parámetros\n",
    "modelo_rf4 = RandomForestRegressor(**better_params, random_state=123)"
   ]
  },
  {
   "cell_type": "markdown",
   "metadata": {},
   "source": [
    "3️⃣ - `Entrenamiento:`"
   ]
  },
  {
   "cell_type": "code",
   "execution_count": 25,
   "metadata": {},
   "outputs": [
    {
     "data": {
      "text/html": [
       "<style>#sk-container-id-4 {color: black;}#sk-container-id-4 pre{padding: 0;}#sk-container-id-4 div.sk-toggleable {background-color: white;}#sk-container-id-4 label.sk-toggleable__label {cursor: pointer;display: block;width: 100%;margin-bottom: 0;padding: 0.3em;box-sizing: border-box;text-align: center;}#sk-container-id-4 label.sk-toggleable__label-arrow:before {content: \"▸\";float: left;margin-right: 0.25em;color: #696969;}#sk-container-id-4 label.sk-toggleable__label-arrow:hover:before {color: black;}#sk-container-id-4 div.sk-estimator:hover label.sk-toggleable__label-arrow:before {color: black;}#sk-container-id-4 div.sk-toggleable__content {max-height: 0;max-width: 0;overflow: hidden;text-align: left;background-color: #f0f8ff;}#sk-container-id-4 div.sk-toggleable__content pre {margin: 0.2em;color: black;border-radius: 0.25em;background-color: #f0f8ff;}#sk-container-id-4 input.sk-toggleable__control:checked~div.sk-toggleable__content {max-height: 200px;max-width: 100%;overflow: auto;}#sk-container-id-4 input.sk-toggleable__control:checked~label.sk-toggleable__label-arrow:before {content: \"▾\";}#sk-container-id-4 div.sk-estimator input.sk-toggleable__control:checked~label.sk-toggleable__label {background-color: #d4ebff;}#sk-container-id-4 div.sk-label input.sk-toggleable__control:checked~label.sk-toggleable__label {background-color: #d4ebff;}#sk-container-id-4 input.sk-hidden--visually {border: 0;clip: rect(1px 1px 1px 1px);clip: rect(1px, 1px, 1px, 1px);height: 1px;margin: -1px;overflow: hidden;padding: 0;position: absolute;width: 1px;}#sk-container-id-4 div.sk-estimator {font-family: monospace;background-color: #f0f8ff;border: 1px dotted black;border-radius: 0.25em;box-sizing: border-box;margin-bottom: 0.5em;}#sk-container-id-4 div.sk-estimator:hover {background-color: #d4ebff;}#sk-container-id-4 div.sk-parallel-item::after {content: \"\";width: 100%;border-bottom: 1px solid gray;flex-grow: 1;}#sk-container-id-4 div.sk-label:hover label.sk-toggleable__label {background-color: #d4ebff;}#sk-container-id-4 div.sk-serial::before {content: \"\";position: absolute;border-left: 1px solid gray;box-sizing: border-box;top: 0;bottom: 0;left: 50%;z-index: 0;}#sk-container-id-4 div.sk-serial {display: flex;flex-direction: column;align-items: center;background-color: white;padding-right: 0.2em;padding-left: 0.2em;position: relative;}#sk-container-id-4 div.sk-item {position: relative;z-index: 1;}#sk-container-id-4 div.sk-parallel {display: flex;align-items: stretch;justify-content: center;background-color: white;position: relative;}#sk-container-id-4 div.sk-item::before, #sk-container-id-4 div.sk-parallel-item::before {content: \"\";position: absolute;border-left: 1px solid gray;box-sizing: border-box;top: 0;bottom: 0;left: 50%;z-index: -1;}#sk-container-id-4 div.sk-parallel-item {display: flex;flex-direction: column;z-index: 1;position: relative;background-color: white;}#sk-container-id-4 div.sk-parallel-item:first-child::after {align-self: flex-end;width: 50%;}#sk-container-id-4 div.sk-parallel-item:last-child::after {align-self: flex-start;width: 50%;}#sk-container-id-4 div.sk-parallel-item:only-child::after {width: 0;}#sk-container-id-4 div.sk-dashed-wrapped {border: 1px dashed gray;margin: 0 0.4em 0.5em 0.4em;box-sizing: border-box;padding-bottom: 0.4em;background-color: white;}#sk-container-id-4 div.sk-label label {font-family: monospace;font-weight: bold;display: inline-block;line-height: 1.2em;}#sk-container-id-4 div.sk-label-container {text-align: center;}#sk-container-id-4 div.sk-container {/* jupyter's `normalize.less` sets `[hidden] { display: none; }` but bootstrap.min.css set `[hidden] { display: none !important; }` so we also need the `!important` here to be able to override the default hidden behavior on the sphinx rendered scikit-learn.org. See: https://github.com/scikit-learn/scikit-learn/issues/21755 */display: inline-block !important;position: relative;}#sk-container-id-4 div.sk-text-repr-fallback {display: none;}</style><div id=\"sk-container-id-4\" class=\"sk-top-container\"><div class=\"sk-text-repr-fallback\"><pre>RandomForestRegressor(max_depth=20, max_features=&#x27;sqrt&#x27;, min_samples_leaf=4,\n",
       "                      min_samples_split=10, random_state=123)</pre><b>In a Jupyter environment, please rerun this cell to show the HTML representation or trust the notebook. <br />On GitHub, the HTML representation is unable to render, please try loading this page with nbviewer.org.</b></div><div class=\"sk-container\" hidden><div class=\"sk-item\"><div class=\"sk-estimator sk-toggleable\"><input class=\"sk-toggleable__control sk-hidden--visually\" id=\"sk-estimator-id-4\" type=\"checkbox\" checked><label for=\"sk-estimator-id-4\" class=\"sk-toggleable__label sk-toggleable__label-arrow\">RandomForestRegressor</label><div class=\"sk-toggleable__content\"><pre>RandomForestRegressor(max_depth=20, max_features=&#x27;sqrt&#x27;, min_samples_leaf=4,\n",
       "                      min_samples_split=10, random_state=123)</pre></div></div></div></div></div>"
      ],
      "text/plain": [
       "RandomForestRegressor(max_depth=20, max_features='sqrt', min_samples_leaf=4,\n",
       "                      min_samples_split=10, random_state=123)"
      ]
     },
     "execution_count": 25,
     "metadata": {},
     "output_type": "execute_result"
    }
   ],
   "source": [
    "modelo_rf4.fit(X_train, Y_train)"
   ]
  },
  {
   "cell_type": "markdown",
   "metadata": {},
   "source": [
    "4️⃣ - `Predicción:`"
   ]
  },
  {
   "cell_type": "code",
   "execution_count": 26,
   "metadata": {},
   "outputs": [],
   "source": [
    "#Estimacion de Y (Y \"gorro\")\n",
    "Y_hat = modelo_rf4.predict(X_test)"
   ]
  },
  {
   "cell_type": "markdown",
   "metadata": {},
   "source": [
    "5️⃣ - `Métricas:`"
   ]
  },
  {
   "cell_type": "code",
   "execution_count": 27,
   "metadata": {},
   "outputs": [
    {
     "name": "stdout",
     "output_type": "stream",
     "text": [
      "MAE2_M4: 168022.04\n",
      "MSE2_M4: 76458832343.25\n",
      "RMSE_M4: 276511.90\n",
      "r2_M4: 0.42\n"
     ]
    }
   ],
   "source": [
    "MAE_RF4 = mean_absolute_error(Y_test, Y_hat)\n",
    "MSE_RF4 =  mean_squared_error(Y_test, Y_hat)\n",
    "RMSE_RF4 = math.sqrt(mean_squared_error(Y_test, Y_hat))\n",
    "r2_RF4 = r2_score(Y_test, Y_hat)\n",
    "\n",
    "print(\"MAE2_M4: %.2f\" % MAE_RF4)\n",
    "print(\"MSE2_M4: %.2f\" % MSE_RF4)\n",
    "print(\"RMSE_M4: %.2f\" % RMSE_RF4)\n",
    "print('r2_M4: %.2f' % r2_RF4)"
   ]
  },
  {
   "cell_type": "markdown",
   "metadata": {},
   "source": [
    "⛔- `Resultado:`\n",
    "El Modelo 4 muestra resultados similares a los del Modelo 3 en términos de MAE, MSE, RMSE y R2. Ambos modelos tienen un R2 de 0.42, lo que dice que el 42% de la variabilidad se ecplica en respuesta de predicción."
   ]
  },
  {
   "cell_type": "markdown",
   "metadata": {},
   "source": [
    "✅- `Comparacion de modelos:`\n",
    "En resumen, el Modelo 3 (MDL3_RF) se destaca como el mejor modelo entre los cuatro evaluados debido a su capacidad superior para predecir la variable \"Renta\" con un valor más bajo de MAE, MSE y RMSE y un R2 más alto. Sin embargo, los Modelos 3 y 4 también ofrecen resultados competitivos y similares en términos de métricas de desempeño, por lo cual por unas cifras minimas entre los dos modelos se ah decidido dejar al modelo 3 como modelo ganador.\n",
    "\n",
    "| Modelo   | MAE        | MSE         | RMSE       | r2   |\n",
    "|----------|------------|-------------|------------|-----|\n",
    "| Modelo 1 | 168532.67  | 77228455967 | 277900.08  | 0.42|\n",
    "| Modelo 2 | 172190.31  | 80369659360 | 283495.43  | 0.39|\n",
    "| Modelo 3 | 167522.50  | 76222349132 | 276083.95  | 0.42|\n",
    "| Modelo 4 | 168022.04  | 76458832343 | 276511.90  | 0.42|"
   ]
  },
  {
   "cell_type": "code",
   "execution_count": null,
   "metadata": {},
   "outputs": [
    {
     "data": {
      "text/plain": [
       "['models/modelo_rf3_regress.pkl']"
      ]
     },
     "execution_count": 64,
     "metadata": {},
     "output_type": "execute_result"
    }
   ],
   "source": [
    "import joblib as jb\n",
    "\n",
    "# Guardar el modelo\n",
    "jb.dump(modelo_rf3, \"models/modelo_rf3_regress.pkl\")"
   ]
  },
  {
   "cell_type": "markdown",
   "metadata": {},
   "source": [
    "### 🔶CLASS--MODELS "
   ]
  },
  {
   "cell_type": "markdown",
   "metadata": {},
   "source": [
    "#### ➡️MODEL 1 🎄-CLASSIFIER"
   ]
  },
  {
   "cell_type": "markdown",
   "metadata": {},
   "source": [
    "1️⃣ - `Definición de variables:`"
   ]
  },
  {
   "cell_type": "code",
   "execution_count": null,
   "metadata": {},
   "outputs": [],
   "source": [
    "from sklearn.ensemble import RandomForestClassifier\n",
    "from sklearn.model_selection import train_test_split\n",
    "from sklearn.metrics import confusion_matrix\n",
    "from sklearn.metrics import ConfusionMatrixDisplay\n",
    "from sklearn.metrics import classification_report\n",
    "from sklearn.metrics import f1_score"
   ]
  },
  {
   "cell_type": "code",
   "execution_count": null,
   "metadata": {},
   "outputs": [
    {
     "name": "stdout",
     "output_type": "stream",
     "text": [
      "Internauta\n",
      "0.0    16142\n",
      "1.0    34979\n",
      "dtype: int64\n"
     ]
    }
   ],
   "source": [
    "print(monopoly.groupby('Internauta').size())"
   ]
  },
  {
   "cell_type": "code",
   "execution_count": null,
   "metadata": {},
   "outputs": [
    {
     "data": {
      "text/html": [
       "<div>\n",
       "<style scoped>\n",
       "    .dataframe tbody tr th:only-of-type {\n",
       "        vertical-align: middle;\n",
       "    }\n",
       "\n",
       "    .dataframe tbody tr th {\n",
       "        vertical-align: top;\n",
       "    }\n",
       "\n",
       "    .dataframe thead th {\n",
       "        text-align: right;\n",
       "    }\n",
       "</style>\n",
       "<table border=\"1\" class=\"dataframe\">\n",
       "  <thead>\n",
       "    <tr style=\"text-align: right;\">\n",
       "      <th></th>\n",
       "      <th>Subsegmento</th>\n",
       "      <th>Sexo</th>\n",
       "      <th>Region</th>\n",
       "      <th>Edad</th>\n",
       "      <th>Renta</th>\n",
       "      <th>Antiguedad</th>\n",
       "      <th>Adicional</th>\n",
       "      <th>Dualidad</th>\n",
       "      <th>Monoproducto</th>\n",
       "      <th>Ctacte</th>\n",
       "      <th>...</th>\n",
       "      <th>ColL2AC_avg</th>\n",
       "      <th>ColL2CC_avg</th>\n",
       "      <th>ColMx_avg</th>\n",
       "      <th>PagoNac_avg</th>\n",
       "      <th>PagoInt_avg</th>\n",
       "      <th>EeccNac_avg</th>\n",
       "      <th>EeccInt_avg</th>\n",
       "      <th>UsoL1_avg</th>\n",
       "      <th>UsoL2_avg</th>\n",
       "      <th>UsoLI_avg</th>\n",
       "    </tr>\n",
       "  </thead>\n",
       "  <tbody>\n",
       "    <tr>\n",
       "      <th>0</th>\n",
       "      <td>160.0</td>\n",
       "      <td>1.0</td>\n",
       "      <td>13.0</td>\n",
       "      <td>43.0</td>\n",
       "      <td>601932.8</td>\n",
       "      <td>130.0</td>\n",
       "      <td>1.0</td>\n",
       "      <td>0.0</td>\n",
       "      <td>0.0</td>\n",
       "      <td>1.0</td>\n",
       "      <td>...</td>\n",
       "      <td>0.0</td>\n",
       "      <td>34699.666667</td>\n",
       "      <td>0.0000</td>\n",
       "      <td>29333.333333</td>\n",
       "      <td>0.0</td>\n",
       "      <td>908079.416667</td>\n",
       "      <td>0.000000</td>\n",
       "      <td>913045.583333</td>\n",
       "      <td>53874.250000</td>\n",
       "      <td>0.000000</td>\n",
       "    </tr>\n",
       "    <tr>\n",
       "      <th>1</th>\n",
       "      <td>160.0</td>\n",
       "      <td>0.0</td>\n",
       "      <td>13.0</td>\n",
       "      <td>46.0</td>\n",
       "      <td>143640.0</td>\n",
       "      <td>69.0</td>\n",
       "      <td>0.0</td>\n",
       "      <td>0.0</td>\n",
       "      <td>0.0</td>\n",
       "      <td>1.0</td>\n",
       "      <td>...</td>\n",
       "      <td>0.0</td>\n",
       "      <td>17597.250000</td>\n",
       "      <td>45699.2125</td>\n",
       "      <td>167416.666667</td>\n",
       "      <td>0.0</td>\n",
       "      <td>460136.500000</td>\n",
       "      <td>58.904167</td>\n",
       "      <td>428734.833333</td>\n",
       "      <td>119963.916667</td>\n",
       "      <td>84.508333</td>\n",
       "    </tr>\n",
       "    <tr>\n",
       "      <th>2</th>\n",
       "      <td>170.0</td>\n",
       "      <td>0.0</td>\n",
       "      <td>13.0</td>\n",
       "      <td>45.0</td>\n",
       "      <td>929106.0</td>\n",
       "      <td>24.0</td>\n",
       "      <td>1.0</td>\n",
       "      <td>0.0</td>\n",
       "      <td>0.0</td>\n",
       "      <td>1.0</td>\n",
       "      <td>...</td>\n",
       "      <td>0.0</td>\n",
       "      <td>0.000000</td>\n",
       "      <td>0.0000</td>\n",
       "      <td>68325.750000</td>\n",
       "      <td>0.0</td>\n",
       "      <td>8510.750000</td>\n",
       "      <td>0.000000</td>\n",
       "      <td>25294.500000</td>\n",
       "      <td>0.000000</td>\n",
       "      <td>0.000000</td>\n",
       "    </tr>\n",
       "    <tr>\n",
       "      <th>3</th>\n",
       "      <td>151.0</td>\n",
       "      <td>0.0</td>\n",
       "      <td>13.0</td>\n",
       "      <td>46.0</td>\n",
       "      <td>172447.0</td>\n",
       "      <td>134.0</td>\n",
       "      <td>1.0</td>\n",
       "      <td>0.0</td>\n",
       "      <td>1.0</td>\n",
       "      <td>0.0</td>\n",
       "      <td>...</td>\n",
       "      <td>0.0</td>\n",
       "      <td>2706.500000</td>\n",
       "      <td>0.0000</td>\n",
       "      <td>57083.333333</td>\n",
       "      <td>0.0</td>\n",
       "      <td>341916.833333</td>\n",
       "      <td>0.000000</td>\n",
       "      <td>344417.500000</td>\n",
       "      <td>31825.250000</td>\n",
       "      <td>0.000000</td>\n",
       "    </tr>\n",
       "    <tr>\n",
       "      <th>4</th>\n",
       "      <td>170.0</td>\n",
       "      <td>0.0</td>\n",
       "      <td>13.0</td>\n",
       "      <td>46.0</td>\n",
       "      <td>805250.0</td>\n",
       "      <td>116.0</td>\n",
       "      <td>1.0</td>\n",
       "      <td>1.0</td>\n",
       "      <td>0.0</td>\n",
       "      <td>1.0</td>\n",
       "      <td>...</td>\n",
       "      <td>0.0</td>\n",
       "      <td>6227.666667</td>\n",
       "      <td>0.0000</td>\n",
       "      <td>291317.166667</td>\n",
       "      <td>0.0</td>\n",
       "      <td>291684.500000</td>\n",
       "      <td>0.000000</td>\n",
       "      <td>83849.250000</td>\n",
       "      <td>402597.666667</td>\n",
       "      <td>0.000000</td>\n",
       "    </tr>\n",
       "  </tbody>\n",
       "</table>\n",
       "<p>5 rows × 65 columns</p>\n",
       "</div>"
      ],
      "text/plain": [
       "   Subsegmento  Sexo  Region  Edad     Renta  Antiguedad  Adicional  Dualidad  \\\n",
       "0        160.0   1.0    13.0  43.0  601932.8       130.0        1.0       0.0   \n",
       "1        160.0   0.0    13.0  46.0  143640.0        69.0        0.0       0.0   \n",
       "2        170.0   0.0    13.0  45.0  929106.0        24.0        1.0       0.0   \n",
       "3        151.0   0.0    13.0  46.0  172447.0       134.0        1.0       0.0   \n",
       "4        170.0   0.0    13.0  46.0  805250.0       116.0        1.0       1.0   \n",
       "\n",
       "   Monoproducto  Ctacte  ...  ColL2AC_avg   ColL2CC_avg   ColMx_avg  \\\n",
       "0           0.0     1.0  ...          0.0  34699.666667      0.0000   \n",
       "1           0.0     1.0  ...          0.0  17597.250000  45699.2125   \n",
       "2           0.0     1.0  ...          0.0      0.000000      0.0000   \n",
       "3           1.0     0.0  ...          0.0   2706.500000      0.0000   \n",
       "4           0.0     1.0  ...          0.0   6227.666667      0.0000   \n",
       "\n",
       "     PagoNac_avg  PagoInt_avg    EeccNac_avg  EeccInt_avg      UsoL1_avg  \\\n",
       "0   29333.333333          0.0  908079.416667     0.000000  913045.583333   \n",
       "1  167416.666667          0.0  460136.500000    58.904167  428734.833333   \n",
       "2   68325.750000          0.0    8510.750000     0.000000   25294.500000   \n",
       "3   57083.333333          0.0  341916.833333     0.000000  344417.500000   \n",
       "4  291317.166667          0.0  291684.500000     0.000000   83849.250000   \n",
       "\n",
       "       UsoL2_avg  UsoLI_avg  \n",
       "0   53874.250000   0.000000  \n",
       "1  119963.916667  84.508333  \n",
       "2       0.000000   0.000000  \n",
       "3   31825.250000   0.000000  \n",
       "4  402597.666667   0.000000  \n",
       "\n",
       "[5 rows x 65 columns]"
      ]
     },
     "execution_count": 31,
     "metadata": {},
     "output_type": "execute_result"
    }
   ],
   "source": [
    "X = pd.DataFrame(monopoly.drop(columns=['Internauta']))\n",
    "X.head()"
   ]
  },
  {
   "cell_type": "code",
   "execution_count": null,
   "metadata": {},
   "outputs": [
    {
     "data": {
      "text/html": [
       "<div>\n",
       "<style scoped>\n",
       "    .dataframe tbody tr th:only-of-type {\n",
       "        vertical-align: middle;\n",
       "    }\n",
       "\n",
       "    .dataframe tbody tr th {\n",
       "        vertical-align: top;\n",
       "    }\n",
       "\n",
       "    .dataframe thead th {\n",
       "        text-align: right;\n",
       "    }\n",
       "</style>\n",
       "<table border=\"1\" class=\"dataframe\">\n",
       "  <thead>\n",
       "    <tr style=\"text-align: right;\">\n",
       "      <th></th>\n",
       "      <th>Internauta</th>\n",
       "    </tr>\n",
       "  </thead>\n",
       "  <tbody>\n",
       "    <tr>\n",
       "      <th>0</th>\n",
       "      <td>1.0</td>\n",
       "    </tr>\n",
       "    <tr>\n",
       "      <th>1</th>\n",
       "      <td>1.0</td>\n",
       "    </tr>\n",
       "    <tr>\n",
       "      <th>2</th>\n",
       "      <td>1.0</td>\n",
       "    </tr>\n",
       "    <tr>\n",
       "      <th>3</th>\n",
       "      <td>0.0</td>\n",
       "    </tr>\n",
       "    <tr>\n",
       "      <th>4</th>\n",
       "      <td>0.0</td>\n",
       "    </tr>\n",
       "  </tbody>\n",
       "</table>\n",
       "</div>"
      ],
      "text/plain": [
       "   Internauta\n",
       "0         1.0\n",
       "1         1.0\n",
       "2         1.0\n",
       "3         0.0\n",
       "4         0.0"
      ]
     },
     "execution_count": 32,
     "metadata": {},
     "output_type": "execute_result"
    }
   ],
   "source": [
    "Y = pd.DataFrame(monopoly['Internauta'])\n",
    "Y.head()"
   ]
  },
  {
   "cell_type": "code",
   "execution_count": null,
   "metadata": {},
   "outputs": [
    {
     "data": {
      "text/plain": [
       "Internauta\n",
       "0.0    16142\n",
       "1.0    34979\n",
       "dtype: int64"
      ]
     },
     "execution_count": 33,
     "metadata": {},
     "output_type": "execute_result"
    }
   ],
   "source": [
    "Y.groupby('Internauta').size()"
   ]
  },
  {
   "cell_type": "code",
   "execution_count": null,
   "metadata": {},
   "outputs": [],
   "source": [
    "Xtrain, Xtest, Ytrain, Ytest = train_test_split(X,Y,test_size=0.8, random_state=52)"
   ]
  },
  {
   "cell_type": "markdown",
   "metadata": {},
   "source": [
    "2️⃣ - `Modelo:`"
   ]
  },
  {
   "cell_type": "code",
   "execution_count": null,
   "metadata": {},
   "outputs": [],
   "source": [
    "modelo_cf = RandomForestClassifier(n_estimators=50, max_depth=10)"
   ]
  },
  {
   "cell_type": "markdown",
   "metadata": {},
   "source": [
    "3️⃣ - `Entrenamiento:`"
   ]
  },
  {
   "cell_type": "code",
   "execution_count": null,
   "metadata": {},
   "outputs": [
    {
     "data": {
      "text/html": [
       "<style>#sk-container-id-5 {color: black;}#sk-container-id-5 pre{padding: 0;}#sk-container-id-5 div.sk-toggleable {background-color: white;}#sk-container-id-5 label.sk-toggleable__label {cursor: pointer;display: block;width: 100%;margin-bottom: 0;padding: 0.3em;box-sizing: border-box;text-align: center;}#sk-container-id-5 label.sk-toggleable__label-arrow:before {content: \"▸\";float: left;margin-right: 0.25em;color: #696969;}#sk-container-id-5 label.sk-toggleable__label-arrow:hover:before {color: black;}#sk-container-id-5 div.sk-estimator:hover label.sk-toggleable__label-arrow:before {color: black;}#sk-container-id-5 div.sk-toggleable__content {max-height: 0;max-width: 0;overflow: hidden;text-align: left;background-color: #f0f8ff;}#sk-container-id-5 div.sk-toggleable__content pre {margin: 0.2em;color: black;border-radius: 0.25em;background-color: #f0f8ff;}#sk-container-id-5 input.sk-toggleable__control:checked~div.sk-toggleable__content {max-height: 200px;max-width: 100%;overflow: auto;}#sk-container-id-5 input.sk-toggleable__control:checked~label.sk-toggleable__label-arrow:before {content: \"▾\";}#sk-container-id-5 div.sk-estimator input.sk-toggleable__control:checked~label.sk-toggleable__label {background-color: #d4ebff;}#sk-container-id-5 div.sk-label input.sk-toggleable__control:checked~label.sk-toggleable__label {background-color: #d4ebff;}#sk-container-id-5 input.sk-hidden--visually {border: 0;clip: rect(1px 1px 1px 1px);clip: rect(1px, 1px, 1px, 1px);height: 1px;margin: -1px;overflow: hidden;padding: 0;position: absolute;width: 1px;}#sk-container-id-5 div.sk-estimator {font-family: monospace;background-color: #f0f8ff;border: 1px dotted black;border-radius: 0.25em;box-sizing: border-box;margin-bottom: 0.5em;}#sk-container-id-5 div.sk-estimator:hover {background-color: #d4ebff;}#sk-container-id-5 div.sk-parallel-item::after {content: \"\";width: 100%;border-bottom: 1px solid gray;flex-grow: 1;}#sk-container-id-5 div.sk-label:hover label.sk-toggleable__label {background-color: #d4ebff;}#sk-container-id-5 div.sk-serial::before {content: \"\";position: absolute;border-left: 1px solid gray;box-sizing: border-box;top: 0;bottom: 0;left: 50%;z-index: 0;}#sk-container-id-5 div.sk-serial {display: flex;flex-direction: column;align-items: center;background-color: white;padding-right: 0.2em;padding-left: 0.2em;position: relative;}#sk-container-id-5 div.sk-item {position: relative;z-index: 1;}#sk-container-id-5 div.sk-parallel {display: flex;align-items: stretch;justify-content: center;background-color: white;position: relative;}#sk-container-id-5 div.sk-item::before, #sk-container-id-5 div.sk-parallel-item::before {content: \"\";position: absolute;border-left: 1px solid gray;box-sizing: border-box;top: 0;bottom: 0;left: 50%;z-index: -1;}#sk-container-id-5 div.sk-parallel-item {display: flex;flex-direction: column;z-index: 1;position: relative;background-color: white;}#sk-container-id-5 div.sk-parallel-item:first-child::after {align-self: flex-end;width: 50%;}#sk-container-id-5 div.sk-parallel-item:last-child::after {align-self: flex-start;width: 50%;}#sk-container-id-5 div.sk-parallel-item:only-child::after {width: 0;}#sk-container-id-5 div.sk-dashed-wrapped {border: 1px dashed gray;margin: 0 0.4em 0.5em 0.4em;box-sizing: border-box;padding-bottom: 0.4em;background-color: white;}#sk-container-id-5 div.sk-label label {font-family: monospace;font-weight: bold;display: inline-block;line-height: 1.2em;}#sk-container-id-5 div.sk-label-container {text-align: center;}#sk-container-id-5 div.sk-container {/* jupyter's `normalize.less` sets `[hidden] { display: none; }` but bootstrap.min.css set `[hidden] { display: none !important; }` so we also need the `!important` here to be able to override the default hidden behavior on the sphinx rendered scikit-learn.org. See: https://github.com/scikit-learn/scikit-learn/issues/21755 */display: inline-block !important;position: relative;}#sk-container-id-5 div.sk-text-repr-fallback {display: none;}</style><div id=\"sk-container-id-5\" class=\"sk-top-container\"><div class=\"sk-text-repr-fallback\"><pre>RandomForestClassifier(max_depth=10, n_estimators=50)</pre><b>In a Jupyter environment, please rerun this cell to show the HTML representation or trust the notebook. <br />On GitHub, the HTML representation is unable to render, please try loading this page with nbviewer.org.</b></div><div class=\"sk-container\" hidden><div class=\"sk-item\"><div class=\"sk-estimator sk-toggleable\"><input class=\"sk-toggleable__control sk-hidden--visually\" id=\"sk-estimator-id-5\" type=\"checkbox\" checked><label for=\"sk-estimator-id-5\" class=\"sk-toggleable__label sk-toggleable__label-arrow\">RandomForestClassifier</label><div class=\"sk-toggleable__content\"><pre>RandomForestClassifier(max_depth=10, n_estimators=50)</pre></div></div></div></div></div>"
      ],
      "text/plain": [
       "RandomForestClassifier(max_depth=10, n_estimators=50)"
      ]
     },
     "execution_count": 36,
     "metadata": {},
     "output_type": "execute_result"
    }
   ],
   "source": [
    "modelo_cf.fit(Xtrain, Ytrain)"
   ]
  },
  {
   "cell_type": "markdown",
   "metadata": {},
   "source": [
    "4️⃣ - `Predicción:`"
   ]
  },
  {
   "cell_type": "code",
   "execution_count": null,
   "metadata": {},
   "outputs": [],
   "source": [
    "#Estimacion de Y (Y \"gorro\")\n",
    "Y_hat = modelo_cf.predict(Xtest)"
   ]
  },
  {
   "cell_type": "markdown",
   "metadata": {},
   "source": [
    "5️⃣ - `Métricas:`"
   ]
  },
  {
   "cell_type": "code",
   "execution_count": null,
   "metadata": {},
   "outputs": [
    {
     "data": {
      "image/png": "[encoded data removed]",
      "text/plain": [
       "<Figure size 432x288 with 2 Axes>"
      ]
     },
     "metadata": {
      "needs_background": "light"
     },
     "output_type": "display_data"
    }
   ],
   "source": [
    "#Matriz de Confusion\n",
    "matriz = confusion_matrix(Ytest, Y_hat)\n",
    "\n",
    "grafico = ConfusionMatrixDisplay(confusion_matrix=matriz,display_labels=modelo_cf.classes_)\n",
    "grafico.plot(cmap=plt.cm.Blues,values_format='g')\n",
    "plt.xlabel('Clase estimada (predicción)')\n",
    "plt.ylabel('Clase real (observación)')\n",
    "plt.show()"
   ]
  },
  {
   "cell_type": "code",
   "execution_count": null,
   "metadata": {},
   "outputs": [
    {
     "name": "stdout",
     "output_type": "stream",
     "text": [
      "METRICAS DE DESEMPEÑO | MDL1_CF\n",
      "--------------------------------------\n",
      "Verdaderos positivos (VP): 25629\n",
      "Falsos positivos (FP): 7380\n",
      "Verdaderos negativos (VN): 5535\n",
      "Falsos negativos (FN): 2353\n",
      "--------------------------------------\n",
      "Error tipo I: 0.57\n",
      "Error tipo II: 0.08\n"
     ]
    }
   ],
   "source": [
    "VN, FP, FN, VP = matriz.ravel()\n",
    "Tasa_FP_1 = FP/(FP+VN)\n",
    "Tasa_FN_1 = FN/(FN+VP)\n",
    "\n",
    "print('METRICAS DE DESEMPEÑO | MDL1_CF')\n",
    "print(\"--------------------------------------\")\n",
    "print(f'Verdaderos positivos (VP): {VP}')\n",
    "print(f'Falsos positivos (FP): {FP}')\n",
    "print(f'Verdaderos negativos (VN): {VN}')\n",
    "print(f'Falsos negativos (FN): {FN}')\n",
    "print(\"--------------------------------------\")\n",
    "print(\"Error tipo I: %.2f\" % Tasa_FP_1)\n",
    "print(\"Error tipo II: %.2f\" % Tasa_FN_1)"
   ]
  },
  {
   "cell_type": "code",
   "execution_count": null,
   "metadata": {},
   "outputs": [
    {
     "name": "stdout",
     "output_type": "stream",
     "text": [
      "              precision    recall  f1-score   support\n",
      "\n",
      "         0.0       0.70      0.43      0.53     12915\n",
      "         1.0       0.78      0.92      0.84     27982\n",
      "\n",
      "    accuracy                           0.76     40897\n",
      "   macro avg       0.74      0.67      0.69     40897\n",
      "weighted avg       0.75      0.76      0.74     40897\n",
      "\n"
     ]
    }
   ],
   "source": [
    "#Metricas\n",
    "print(classification_report(Ytest, Y_hat))"
   ]
  },
  {
   "cell_type": "code",
   "execution_count": null,
   "metadata": {},
   "outputs": [
    {
     "name": "stdout",
     "output_type": "stream",
     "text": [
      "ACCURACY: 0.76\n",
      "F1-Score: 0.84\n"
     ]
    }
   ],
   "source": [
    "SCORE_01 = modelo_cf.score(Xtest,Ytest)\n",
    "print(\"ACCURACY: %.2f\" % SCORE_01)\n",
    "\n",
    "#F1-Score\n",
    "f1_01 = f1_score(Ytest, Y_hat)\n",
    "print(\"F1-Score: %.2f\" % f1_01)"
   ]
  },
  {
   "cell_type": "markdown",
   "metadata": {},
   "source": [
    "⛔- `Resultado:`\n",
    "El Modelo 1 ofrece un buen rendimiento en términos de precisión y F1-Score, lo que sugiere una capacidad sólida para clasificar correctamente las observaciones. Sin embargo, el Error tipo I es relativamente alto, lo que significa una tasa considerable de falsos positivos. Además, el Error tipo II es bajo, indicando una tasa baja de falsos negativos."
   ]
  },
  {
   "cell_type": "markdown",
   "metadata": {},
   "source": [
    "#### ➡️MODEL 2 🎄-CLASSIFIER"
   ]
  },
  {
   "cell_type": "markdown",
   "metadata": {},
   "source": [
    "2️⃣ - `Modelo:`"
   ]
  },
  {
   "cell_type": "code",
   "execution_count": null,
   "metadata": {},
   "outputs": [],
   "source": [
    "modelo_cf2 = RandomForestClassifier(n_estimators=50, max_depth=10, min_samples_split=2,min_samples_leaf=2,class_weight='balanced')"
   ]
  },
  {
   "cell_type": "markdown",
   "metadata": {},
   "source": [
    "3️⃣ - `Entrenamiento:`"
   ]
  },
  {
   "cell_type": "code",
   "execution_count": null,
   "metadata": {},
   "outputs": [
    {
     "data": {
      "text/html": [
       "<style>#sk-container-id-6 {color: black;}#sk-container-id-6 pre{padding: 0;}#sk-container-id-6 div.sk-toggleable {background-color: white;}#sk-container-id-6 label.sk-toggleable__label {cursor: pointer;display: block;width: 100%;margin-bottom: 0;padding: 0.3em;box-sizing: border-box;text-align: center;}#sk-container-id-6 label.sk-toggleable__label-arrow:before {content: \"▸\";float: left;margin-right: 0.25em;color: #696969;}#sk-container-id-6 label.sk-toggleable__label-arrow:hover:before {color: black;}#sk-container-id-6 div.sk-estimator:hover label.sk-toggleable__label-arrow:before {color: black;}#sk-container-id-6 div.sk-toggleable__content {max-height: 0;max-width: 0;overflow: hidden;text-align: left;background-color: #f0f8ff;}#sk-container-id-6 div.sk-toggleable__content pre {margin: 0.2em;color: black;border-radius: 0.25em;background-color: #f0f8ff;}#sk-container-id-6 input.sk-toggleable__control:checked~div.sk-toggleable__content {max-height: 200px;max-width: 100%;overflow: auto;}#sk-container-id-6 input.sk-toggleable__control:checked~label.sk-toggleable__label-arrow:before {content: \"▾\";}#sk-container-id-6 div.sk-estimator input.sk-toggleable__control:checked~label.sk-toggleable__label {background-color: #d4ebff;}#sk-container-id-6 div.sk-label input.sk-toggleable__control:checked~label.sk-toggleable__label {background-color: #d4ebff;}#sk-container-id-6 input.sk-hidden--visually {border: 0;clip: rect(1px 1px 1px 1px);clip: rect(1px, 1px, 1px, 1px);height: 1px;margin: -1px;overflow: hidden;padding: 0;position: absolute;width: 1px;}#sk-container-id-6 div.sk-estimator {font-family: monospace;background-color: #f0f8ff;border: 1px dotted black;border-radius: 0.25em;box-sizing: border-box;margin-bottom: 0.5em;}#sk-container-id-6 div.sk-estimator:hover {background-color: #d4ebff;}#sk-container-id-6 div.sk-parallel-item::after {content: \"\";width: 100%;border-bottom: 1px solid gray;flex-grow: 1;}#sk-container-id-6 div.sk-label:hover label.sk-toggleable__label {background-color: #d4ebff;}#sk-container-id-6 div.sk-serial::before {content: \"\";position: absolute;border-left: 1px solid gray;box-sizing: border-box;top: 0;bottom: 0;left: 50%;z-index: 0;}#sk-container-id-6 div.sk-serial {display: flex;flex-direction: column;align-items: center;background-color: white;padding-right: 0.2em;padding-left: 0.2em;position: relative;}#sk-container-id-6 div.sk-item {position: relative;z-index: 1;}#sk-container-id-6 div.sk-parallel {display: flex;align-items: stretch;justify-content: center;background-color: white;position: relative;}#sk-container-id-6 div.sk-item::before, #sk-container-id-6 div.sk-parallel-item::before {content: \"\";position: absolute;border-left: 1px solid gray;box-sizing: border-box;top: 0;bottom: 0;left: 50%;z-index: -1;}#sk-container-id-6 div.sk-parallel-item {display: flex;flex-direction: column;z-index: 1;position: relative;background-color: white;}#sk-container-id-6 div.sk-parallel-item:first-child::after {align-self: flex-end;width: 50%;}#sk-container-id-6 div.sk-parallel-item:last-child::after {align-self: flex-start;width: 50%;}#sk-container-id-6 div.sk-parallel-item:only-child::after {width: 0;}#sk-container-id-6 div.sk-dashed-wrapped {border: 1px dashed gray;margin: 0 0.4em 0.5em 0.4em;box-sizing: border-box;padding-bottom: 0.4em;background-color: white;}#sk-container-id-6 div.sk-label label {font-family: monospace;font-weight: bold;display: inline-block;line-height: 1.2em;}#sk-container-id-6 div.sk-label-container {text-align: center;}#sk-container-id-6 div.sk-container {/* jupyter's `normalize.less` sets `[hidden] { display: none; }` but bootstrap.min.css set `[hidden] { display: none !important; }` so we also need the `!important` here to be able to override the default hidden behavior on the sphinx rendered scikit-learn.org. See: https://github.com/scikit-learn/scikit-learn/issues/21755 */display: inline-block !important;position: relative;}#sk-container-id-6 div.sk-text-repr-fallback {display: none;}</style><div id=\"sk-container-id-6\" class=\"sk-top-container\"><div class=\"sk-text-repr-fallback\"><pre>RandomForestClassifier(class_weight=&#x27;balanced&#x27;, max_depth=10,\n",
       "                       min_samples_leaf=2, n_estimators=50)</pre><b>In a Jupyter environment, please rerun this cell to show the HTML representation or trust the notebook. <br />On GitHub, the HTML representation is unable to render, please try loading this page with nbviewer.org.</b></div><div class=\"sk-container\" hidden><div class=\"sk-item\"><div class=\"sk-estimator sk-toggleable\"><input class=\"sk-toggleable__control sk-hidden--visually\" id=\"sk-estimator-id-6\" type=\"checkbox\" checked><label for=\"sk-estimator-id-6\" class=\"sk-toggleable__label sk-toggleable__label-arrow\">RandomForestClassifier</label><div class=\"sk-toggleable__content\"><pre>RandomForestClassifier(class_weight=&#x27;balanced&#x27;, max_depth=10,\n",
       "                       min_samples_leaf=2, n_estimators=50)</pre></div></div></div></div></div>"
      ],
      "text/plain": [
       "RandomForestClassifier(class_weight='balanced', max_depth=10,\n",
       "                       min_samples_leaf=2, n_estimators=50)"
      ]
     },
     "execution_count": 43,
     "metadata": {},
     "output_type": "execute_result"
    }
   ],
   "source": [
    "modelo_cf2.fit(Xtrain, Ytrain)"
   ]
  },
  {
   "cell_type": "markdown",
   "metadata": {},
   "source": [
    "4️⃣ - `Predicción:`"
   ]
  },
  {
   "cell_type": "code",
   "execution_count": null,
   "metadata": {},
   "outputs": [],
   "source": [
    "#Estimacion de Y (Y \"gorro\")\n",
    "Y_hat = modelo_cf2.predict(Xtest)"
   ]
  },
  {
   "cell_type": "markdown",
   "metadata": {},
   "source": [
    "5️⃣ - `Métricas:`"
   ]
  },
  {
   "cell_type": "code",
   "execution_count": null,
   "metadata": {},
   "outputs": [
    {
     "data": {
      "image/png": "[encoded data removed]",
      "text/plain": [
       "<Figure size 432x288 with 2 Axes>"
      ]
     },
     "metadata": {
      "needs_background": "light"
     },
     "output_type": "display_data"
    }
   ],
   "source": [
    "#Matriz de Confusion\n",
    "matriz = confusion_matrix(Ytest, Y_hat)\n",
    "\n",
    "grafico = ConfusionMatrixDisplay(confusion_matrix=matriz,display_labels=modelo_cf2.classes_)\n",
    "grafico.plot(cmap=plt.cm.Blues,values_format='g')\n",
    "plt.xlabel('Clase estimada (predicción)')\n",
    "plt.ylabel('Clase real (observación)')\n",
    "plt.show()"
   ]
  },
  {
   "cell_type": "code",
   "execution_count": null,
   "metadata": {},
   "outputs": [
    {
     "name": "stdout",
     "output_type": "stream",
     "text": [
      "METRICAS DE DESEMPEÑO | MDL2_CF\n",
      "--------------------------------------\n",
      "Verdaderos positivos (VP): 22715\n",
      "Falsos positivos (FP): 4865\n",
      "Verdaderos negativos (VN): 8050\n",
      "Falsos negativos (FN): 5267\n",
      "--------------------------------------\n",
      "Error tipo I: 0.38\n",
      "Error tipo II: 0.19\n"
     ]
    }
   ],
   "source": [
    "VN, FP, FN, VP = matriz.ravel()\n",
    "Tasa_FP_2 = FP/(FP+VN)\n",
    "Tasa_FN_2 = FN/(FN+VP)\n",
    "\n",
    "print('METRICAS DE DESEMPEÑO | MDL2_CF')\n",
    "print(\"--------------------------------------\")\n",
    "print(f'Verdaderos positivos (VP): {VP}')\n",
    "print(f'Falsos positivos (FP): {FP}')\n",
    "print(f'Verdaderos negativos (VN): {VN}')\n",
    "print(f'Falsos negativos (FN): {FN}')\n",
    "print(\"--------------------------------------\")\n",
    "print(\"Error tipo I: %.2f\" % Tasa_FP_2)\n",
    "print(\"Error tipo II: %.2f\" % Tasa_FN_2)"
   ]
  },
  {
   "cell_type": "code",
   "execution_count": null,
   "metadata": {},
   "outputs": [
    {
     "name": "stdout",
     "output_type": "stream",
     "text": [
      "              precision    recall  f1-score   support\n",
      "\n",
      "         0.0       0.60      0.62      0.61     12915\n",
      "         1.0       0.82      0.81      0.82     27982\n",
      "\n",
      "    accuracy                           0.75     40897\n",
      "   macro avg       0.71      0.72      0.72     40897\n",
      "weighted avg       0.75      0.75      0.75     40897\n",
      "\n"
     ]
    }
   ],
   "source": [
    "print(classification_report(Ytest, Y_hat))"
   ]
  },
  {
   "cell_type": "code",
   "execution_count": null,
   "metadata": {},
   "outputs": [
    {
     "name": "stdout",
     "output_type": "stream",
     "text": [
      "ACCURACY: 0.75\n",
      "F1-Score: 0.82\n"
     ]
    }
   ],
   "source": [
    "#Accuracy\n",
    "SCORE_02 = modelo_cf2.score(Xtest,Ytest)\n",
    "print(\"ACCURACY: %.2f\" % SCORE_02)\n",
    "\n",
    "#F1-Score\n",
    "f1_02 = f1_score(Ytest, Y_hat)\n",
    "print(\"F1-Score: %.2f\" % f1_02)"
   ]
  },
  {
   "cell_type": "markdown",
   "metadata": {},
   "source": [
    "⛔- `Resultado:` El Modelo 2 mejora la tasa de Error tipo I en comparación con el Modelo 1, reduciendo la proporción de falsos positivos. Sin embargo, el Error tipo II es más alto, lo que indica un aumento en la tasa de falsos negativos. El Accuracy y F1-Score siguen siendo sólidos, aunque ligeramente inferiores en comparación con el Modelo 1.\n"
   ]
  },
  {
   "cell_type": "markdown",
   "metadata": {},
   "source": [
    "#### ➡️MODEL 3 🎄-CLASSIFIER"
   ]
  },
  {
   "cell_type": "markdown",
   "metadata": {},
   "source": [
    "2️⃣ - `Modelo:`"
   ]
  },
  {
   "cell_type": "code",
   "execution_count": null,
   "metadata": {},
   "outputs": [
    {
     "data": {
      "text/plain": [
       "{'max_depth': None,\n",
       " 'max_features': 'sqrt',\n",
       " 'min_samples_leaf': 1,\n",
       " 'min_samples_split': 3,\n",
       " 'n_estimators': 100}"
      ]
     },
     "execution_count": 49,
     "metadata": {},
     "output_type": "execute_result"
    }
   ],
   "source": [
    "# Ajuste de hiperparámetros utilizando GridSearchCV\n",
    "param_grid = {\n",
    "    'n_estimators': [50, 100],\n",
    "    'max_depth': [None, 5, 10, 20],\n",
    "    'min_samples_split': [2, 3, 5,7],\n",
    "    'min_samples_leaf': [1, 2, 3, 4],\n",
    "    'max_features': ['auto', 'sqrt', 'log2']\n",
    "}\n",
    "\n",
    "# Crear una instancia del modelo Random Forest\n",
    "modelo = RandomForestClassifier(class_weight='balanced', random_state=123)\n",
    "\n",
    "# Utilizar GridSearchCV para encontrar la mejor combinación de hiperparámetros\n",
    "grid_search = GridSearchCV(estimator=modelo, param_grid=param_grid, cv=5, scoring='f1', n_jobs=-1)\n",
    "grid_search.fit(Xtrain, Ytrain)\n",
    "\n",
    "# Obtener la mejor combinación de hiperparámetros\n",
    "better_params = grid_search.best_params_\n",
    "better_params"
   ]
  },
  {
   "cell_type": "code",
   "execution_count": null,
   "metadata": {},
   "outputs": [],
   "source": [
    "# Crear un modelo Random Forest con los mejores parámetros\n",
    "modelo_cf3 = RandomForestClassifier(**better_params, class_weight='balanced')"
   ]
  },
  {
   "cell_type": "markdown",
   "metadata": {},
   "source": [
    "3️⃣ - `Entrenamiento:` Entrenamiento del modelo ajustándolo con Xtrain y Ytrain."
   ]
  },
  {
   "cell_type": "code",
   "execution_count": null,
   "metadata": {},
   "outputs": [
    {
     "data": {
      "text/html": [
       "<style>#sk-container-id-7 {color: black;}#sk-container-id-7 pre{padding: 0;}#sk-container-id-7 div.sk-toggleable {background-color: white;}#sk-container-id-7 label.sk-toggleable__label {cursor: pointer;display: block;width: 100%;margin-bottom: 0;padding: 0.3em;box-sizing: border-box;text-align: center;}#sk-container-id-7 label.sk-toggleable__label-arrow:before {content: \"▸\";float: left;margin-right: 0.25em;color: #696969;}#sk-container-id-7 label.sk-toggleable__label-arrow:hover:before {color: black;}#sk-container-id-7 div.sk-estimator:hover label.sk-toggleable__label-arrow:before {color: black;}#sk-container-id-7 div.sk-toggleable__content {max-height: 0;max-width: 0;overflow: hidden;text-align: left;background-color: #f0f8ff;}#sk-container-id-7 div.sk-toggleable__content pre {margin: 0.2em;color: black;border-radius: 0.25em;background-color: #f0f8ff;}#sk-container-id-7 input.sk-toggleable__control:checked~div.sk-toggleable__content {max-height: 200px;max-width: 100%;overflow: auto;}#sk-container-id-7 input.sk-toggleable__control:checked~label.sk-toggleable__label-arrow:before {content: \"▾\";}#sk-container-id-7 div.sk-estimator input.sk-toggleable__control:checked~label.sk-toggleable__label {background-color: #d4ebff;}#sk-container-id-7 div.sk-label input.sk-toggleable__control:checked~label.sk-toggleable__label {background-color: #d4ebff;}#sk-container-id-7 input.sk-hidden--visually {border: 0;clip: rect(1px 1px 1px 1px);clip: rect(1px, 1px, 1px, 1px);height: 1px;margin: -1px;overflow: hidden;padding: 0;position: absolute;width: 1px;}#sk-container-id-7 div.sk-estimator {font-family: monospace;background-color: #f0f8ff;border: 1px dotted black;border-radius: 0.25em;box-sizing: border-box;margin-bottom: 0.5em;}#sk-container-id-7 div.sk-estimator:hover {background-color: #d4ebff;}#sk-container-id-7 div.sk-parallel-item::after {content: \"\";width: 100%;border-bottom: 1px solid gray;flex-grow: 1;}#sk-container-id-7 div.sk-label:hover label.sk-toggleable__label {background-color: #d4ebff;}#sk-container-id-7 div.sk-serial::before {content: \"\";position: absolute;border-left: 1px solid gray;box-sizing: border-box;top: 0;bottom: 0;left: 50%;z-index: 0;}#sk-container-id-7 div.sk-serial {display: flex;flex-direction: column;align-items: center;background-color: white;padding-right: 0.2em;padding-left: 0.2em;position: relative;}#sk-container-id-7 div.sk-item {position: relative;z-index: 1;}#sk-container-id-7 div.sk-parallel {display: flex;align-items: stretch;justify-content: center;background-color: white;position: relative;}#sk-container-id-7 div.sk-item::before, #sk-container-id-7 div.sk-parallel-item::before {content: \"\";position: absolute;border-left: 1px solid gray;box-sizing: border-box;top: 0;bottom: 0;left: 50%;z-index: -1;}#sk-container-id-7 div.sk-parallel-item {display: flex;flex-direction: column;z-index: 1;position: relative;background-color: white;}#sk-container-id-7 div.sk-parallel-item:first-child::after {align-self: flex-end;width: 50%;}#sk-container-id-7 div.sk-parallel-item:last-child::after {align-self: flex-start;width: 50%;}#sk-container-id-7 div.sk-parallel-item:only-child::after {width: 0;}#sk-container-id-7 div.sk-dashed-wrapped {border: 1px dashed gray;margin: 0 0.4em 0.5em 0.4em;box-sizing: border-box;padding-bottom: 0.4em;background-color: white;}#sk-container-id-7 div.sk-label label {font-family: monospace;font-weight: bold;display: inline-block;line-height: 1.2em;}#sk-container-id-7 div.sk-label-container {text-align: center;}#sk-container-id-7 div.sk-container {/* jupyter's `normalize.less` sets `[hidden] { display: none; }` but bootstrap.min.css set `[hidden] { display: none !important; }` so we also need the `!important` here to be able to override the default hidden behavior on the sphinx rendered scikit-learn.org. See: https://github.com/scikit-learn/scikit-learn/issues/21755 */display: inline-block !important;position: relative;}#sk-container-id-7 div.sk-text-repr-fallback {display: none;}</style><div id=\"sk-container-id-7\" class=\"sk-top-container\"><div class=\"sk-text-repr-fallback\"><pre>RandomForestClassifier(class_weight=&#x27;balanced&#x27;, min_samples_split=3)</pre><b>In a Jupyter environment, please rerun this cell to show the HTML representation or trust the notebook. <br />On GitHub, the HTML representation is unable to render, please try loading this page with nbviewer.org.</b></div><div class=\"sk-container\" hidden><div class=\"sk-item\"><div class=\"sk-estimator sk-toggleable\"><input class=\"sk-toggleable__control sk-hidden--visually\" id=\"sk-estimator-id-7\" type=\"checkbox\" checked><label for=\"sk-estimator-id-7\" class=\"sk-toggleable__label sk-toggleable__label-arrow\">RandomForestClassifier</label><div class=\"sk-toggleable__content\"><pre>RandomForestClassifier(class_weight=&#x27;balanced&#x27;, min_samples_split=3)</pre></div></div></div></div></div>"
      ],
      "text/plain": [
       "RandomForestClassifier(class_weight='balanced', min_samples_split=3)"
      ]
     },
     "execution_count": 51,
     "metadata": {},
     "output_type": "execute_result"
    }
   ],
   "source": [
    "modelo_cf3.fit(Xtrain, Ytrain)"
   ]
  },
  {
   "cell_type": "markdown",
   "metadata": {},
   "source": [
    "4️⃣ - `Predicción:`"
   ]
  },
  {
   "cell_type": "code",
   "execution_count": null,
   "metadata": {},
   "outputs": [],
   "source": [
    "#Estimacion de Y (Y \"gorro\")\n",
    "Y_hat = modelo_cf3.predict(Xtest)"
   ]
  },
  {
   "cell_type": "markdown",
   "metadata": {},
   "source": [
    "5️⃣ - `Métricas:`"
   ]
  },
  {
   "cell_type": "code",
   "execution_count": null,
   "metadata": {},
   "outputs": [
    {
     "data": {
      "image/png": "[encoded data removed]",
      "text/plain": [
       "<Figure size 432x288 with 2 Axes>"
      ]
     },
     "metadata": {
      "needs_background": "light"
     },
     "output_type": "display_data"
    }
   ],
   "source": [
    "#Matriz de Confusion\n",
    "matriz = confusion_matrix(Ytest, Y_hat)\n",
    "\n",
    "grafico = ConfusionMatrixDisplay(confusion_matrix=matriz,display_labels=modelo_cf3.classes_)\n",
    "grafico.plot(cmap=plt.cm.Blues,values_format='g')\n",
    "plt.xlabel('Clase estimada (predicción)')\n",
    "plt.ylabel('Clase real (observación)')\n",
    "plt.show()"
   ]
  },
  {
   "cell_type": "code",
   "execution_count": null,
   "metadata": {},
   "outputs": [
    {
     "name": "stdout",
     "output_type": "stream",
     "text": [
      "METRICAS DE DESEMPEÑO | MDL3_CF\n",
      "--------------------------------------\n",
      "Verdaderos positivos (VP): 22715\n",
      "Falsos positivos (FP): 4865\n",
      "Verdaderos negativos (VN): 8050\n",
      "Falsos negativos (FN): 5267\n",
      "--------------------------------------\n",
      "Error tipo I: 0.38\n",
      "Error tipo II: 0.19\n"
     ]
    }
   ],
   "source": [
    "Tasa_FP_3 = FP/(FP+VN)\n",
    "Tasa_FN_3 = FN/(FN+VP)\n",
    "\n",
    "print('METRICAS DE DESEMPEÑO | MDL3_CF')\n",
    "print(\"--------------------------------------\")\n",
    "print(f'Verdaderos positivos (VP): {VP}')\n",
    "print(f'Falsos positivos (FP): {FP}')\n",
    "print(f'Verdaderos negativos (VN): {VN}')\n",
    "print(f'Falsos negativos (FN): {FN}')\n",
    "print(\"--------------------------------------\")\n",
    "print(\"Error tipo I: %.2f\" % Tasa_FP_3)\n",
    "print(\"Error tipo II: %.2f\" % Tasa_FN_3)"
   ]
  },
  {
   "cell_type": "code",
   "execution_count": null,
   "metadata": {},
   "outputs": [
    {
     "name": "stdout",
     "output_type": "stream",
     "text": [
      "              precision    recall  f1-score   support\n",
      "\n",
      "         0.0       0.70      0.44      0.54     12915\n",
      "         1.0       0.78      0.91      0.84     27982\n",
      "\n",
      "    accuracy                           0.76     40897\n",
      "   macro avg       0.74      0.67      0.69     40897\n",
      "weighted avg       0.75      0.76      0.74     40897\n",
      "\n"
     ]
    }
   ],
   "source": [
    "#Metricas\n",
    "print(classification_report(Ytest, Y_hat))"
   ]
  },
  {
   "cell_type": "code",
   "execution_count": null,
   "metadata": {},
   "outputs": [
    {
     "name": "stdout",
     "output_type": "stream",
     "text": [
      "ACCURACY: 0.76\n",
      "F1-Score: 0.84\n"
     ]
    }
   ],
   "source": [
    "#Accuracy\n",
    "SCORE_03 = modelo_cf3.score(Xtest,Ytest)\n",
    "print(\"ACCURACY: %.2f\" % SCORE_03)\n",
    "\n",
    "#F1-Score\n",
    "f1_03 = f1_score(Ytest, Y_hat)\n",
    "print(\"F1-Score: %.2f\" % f1_03)"
   ]
  },
  {
   "cell_type": "markdown",
   "metadata": {},
   "source": [
    "✅- `Resultados:`El Modelo 3, que fue ajustado utilizando GridSearchCV para encontrar la mejor combinación de hiperparámetros, ofrece resultados similares al Modelo 2 en términos de Error tipo I y Error tipo II, Accuracy y F1-Score. Sin embargo, debido al ajuste de hiperparámetros, el Modelo 3 puede considerarse más robusto y generalizable a nuevos datos.\n"
   ]
  },
  {
   "cell_type": "markdown",
   "metadata": {},
   "source": [
    "✅- `Comparacion de modelos:` Aunque los modelos 2 y 3 muestran resultados similares en términos de error tipo I, error tipo II, accuracy y F1-Score, el Modelo 3 ha sido ajustado utilizando GridSearchCV para encontrar la mejor combinación de hiperparámetros, lo que sugiere una mayor robustez en términos de generalización a nuevos datos. Por lo tanto, el Modelo 3 puede considerarse como el mejor modelo entre los tres evaluados.\n",
    "\n",
    "| Modelo   | Error tipo I | Error tipo II | Accuracy | F1-Score |\n",
    "|----------|--------------|--------------|----------|----------|\n",
    "| MDL1_CF  | 0.57         | 0.08         | 0.76     | 0.84     |\n",
    "| MDL2_CF  | 0.38         | 0.19         | 0.75     | 0.82     |\n",
    "| MDL3_CF  | 0.38         | 0.19         | 0.76     | 0.84     |"
   ]
  },
  {
   "cell_type": "code",
   "execution_count": null,
   "metadata": {},
   "outputs": [
    {
     "data": {
      "text/plain": [
       "['models/modelo_rf3_class.pkl']"
      ]
     },
     "execution_count": 63,
     "metadata": {},
     "output_type": "execute_result"
    }
   ],
   "source": [
    "# Guardar el modelo\n",
    "jb.dump(modelo_cf3, \"models/modelo_rf3_class.pkl\")"
   ]
  }
 ],
 "metadata": {
  "kernelspec": {
   "display_name": "Python 3",
   "language": "python",
   "name": "python3"
  },
  "language_info": {
   "codemirror_mode": {
    "name": "ipython",
    "version": 3
   },
   "file_extension": ".py",
   "mimetype": "text/x-python",
   "name": "python",
   "nbconvert_exporter": "python",
   "pygments_lexer": "ipython3",
   "version": "3.11.1"
  }
 },
 "nbformat": 4,
 "nbformat_minor": 2
}
